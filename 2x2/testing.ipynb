{
 "cells": [
  {
   "cell_type": "code",
   "execution_count": 3,
   "metadata": {},
   "outputs": [],
   "source": [
    "import numpy as np\n",
    "import matplotlib.pyplot as plt\n",
    "from numba import njit\n",
    "import time\n",
    "import random"
   ]
  },
  {
   "cell_type": "code",
   "execution_count": 4,
   "metadata": {},
   "outputs": [],
   "source": [
    "# 2x2 cube\n",
    "solved_state = np.array([0,1,2,3,4,5,6,7,0,0,0,0,0,0,0,0])\n",
    "\n",
    "move_map = {\n",
    "    \"R\": np.array([0, 2, 5, 3, 4, 6, 1, 7, 0, 1, 2, 0, 0, 1, 2, 0]),\n",
    "    \"U\": np.array([3, 0, 1, 2, 4, 5, 6, 7, 0, 0, 0, 0, 0, 0, 0, 0]),\n",
    "    \"F\": np.array([0, 1, 3, 4, 5, 2, 6, 7, 0, 0, 1, 2, 1, 2, 0, 0]),\n",
    "    \"R'\": np.array([0, 6, 1, 3, 4, 2, 5, 7, 0, 1, 2, 0, 0, 1, 2, 0]),\n",
    "    \"U'\": np.array([1, 2, 3, 0, 4, 5, 6, 7, 0, 0, 0, 0, 0, 0, 0, 0]),\n",
    "    \"F'\": np.array([0, 1, 5, 2, 3, 4, 6, 7, 0, 0, 1, 2, 1, 2, 0, 0]),\n",
    "    \"R2\": np.array([0, 5, 6, 3, 4, 1, 2, 7, 0, 0, 0, 0, 0, 0, 0, 0]),\n",
    "    \"U2\": np.array([2, 3, 0, 1, 4, 5, 6, 7, 0, 0, 0, 0, 0, 0, 0, 0]),\n",
    "    \"F2\": np.array([0, 1, 4, 5, 2, 3, 6, 7, 0, 0, 0, 0, 0, 0, 0, 0]),\n",
    "}\n",
    "\n",
    "moves = [\"U\", \"U2\", \"U'\", \"R\", \"R2\", \"R'\", \"F\", \"F2\", \"F'\"]\n",
    "\n",
    "@njit\n",
    "def apply_move(cube, move_array):\n",
    "    cube2 = cube.copy()\n",
    "    # Orientation\n",
    "    cube[8:16] = (cube2[(move_array[:8]+8)] + move_array[8:16]) % 3 \n",
    "\n",
    "    # rewrite the orientation\n",
    "    cube[:8] = cube[move_array[:8]]\n",
    "\n",
    "    return cube\n",
    "\n",
    "def apply_alg(cube, alg):\n",
    "    for move in alg.split(\" \"):\n",
    "        cube = apply_move(cube, move_map[move])\n",
    "\n",
    "    return cube\n",
    "\n",
    "def get_cube(scramble = \"\"):\n",
    "    if scramble == \"\":\n",
    "        return np.array([0,1,2,3,4,5,6,7,0,0,0,0,0,0,0,0])\n",
    "    else:\n",
    "        cube = np.array([0,1,2,3,4,5,6,7,0,0,0,0,0,0,0,0])\n",
    "        cube = apply_alg(cube, scramble)\n",
    "        return cube\n",
    "\n",
    "cube = get_cube(\"\")\n",
    "\n",
    "move_array = move_map[\"R\"]\n",
    "cube = apply_move(cube, move_array)\n",
    "\n",
    "def inv(solution):\n",
    "    return \" \".join(\n",
    "        (s[:-1] if \"'\" in s else s + \"'\") if \"2\" not in s else s\n",
    "        for s in solution.split()[::-1]\n",
    "    )"
   ]
  },
  {
   "cell_type": "code",
   "execution_count": 5,
   "metadata": {},
   "outputs": [
    {
     "data": {
      "text/plain": [
       "68525328"
      ]
     },
     "execution_count": 5,
     "metadata": {},
     "output_type": "execute_result"
    }
   ],
   "source": [
    "# we wanna make a solver\n",
    "# id 7 is never used\n",
    "\n",
    "@njit\n",
    "def get_id_from_state(cube):\n",
    "    ID0 = 0\n",
    "    for i in range(6):\n",
    "        ID0 += cube[i] * 7**i\n",
    "    \n",
    "    ID1 = 0\n",
    "    for i in range(6):\n",
    "        ID1 += cube[i+8] * 3**(i)\n",
    "    \n",
    "    return ID0*3**6 + ID1\n",
    "\n",
    "cube = get_cube(\"R U R' U' R' F R2 U' R' U' R U R' F'\")\n",
    "cube = get_cube(inv(\"F R2 U2 F U2 R F' R\"))\n",
    "get_id_from_state(cube)\n"
   ]
  },
  {
   "cell_type": "code",
   "execution_count": 6,
   "metadata": {},
   "outputs": [],
   "source": [
    "@njit\n",
    "def _inc(ids):\n",
    "    for i in range(len(ids)):\n",
    "        ids[i]+=1\n",
    "        ids[i]%=9\n",
    "        if ids[i]:\n",
    "            break\n",
    "    return ids\n",
    "\n",
    "@njit\n",
    "def _is_valid(length,ids):\n",
    "    for i in range(length-1):\n",
    "        if ids[i]//3==ids[i+1]//3:\n",
    "            return False\n",
    "    return True      \n",
    "\n",
    "@njit\n",
    "def _increment(length,ids):\n",
    "    ids = _inc(ids)\n",
    "    while not _is_valid(length,ids):\n",
    "        ids = _inc(ids)\n",
    "    return ids\n",
    "\n",
    "\n",
    "class alg_index:\n",
    "    def __init__(self, depth):\n",
    "        self.depth = depth\n",
    "        self.alg = np.array([0,3,6]*(depth//3+1))[:depth]\n",
    "\n",
    "    def increment(self):\n",
    "        self.alg = _increment(self.depth,self.alg)\n",
    "\n",
    "    def __str__(self):\n",
    "        return \" \".join(moves[i] for i in self.alg)\n",
    "    \n",
    "\n",
    "ai = alg_index(3)\n",
    "\n",
    "def gen_all_algs(depth, print_progress = False):\n",
    "    all_algs = []\n",
    "    for i in range(1, depth+1):\n",
    "        if print_progress:\n",
    "            print(f\"Genning algs of length {i}...\")\n",
    "        ai = alg_index(i)\n",
    "        start_alg = str(ai)\n",
    "        ai.increment()\n",
    "        while str(ai) != start_alg:\n",
    "            all_algs.append(str(ai))\n",
    "            ai.increment()\n",
    "\n",
    "    return all_algs\n",
    "\n",
    "algs = gen_all_algs(3)"
   ]
  },
  {
   "cell_type": "code",
   "execution_count": 7,
   "metadata": {},
   "outputs": [
    {
     "name": "stdout",
     "output_type": "stream",
     "text": [
      "Genning algs of length 1...\n",
      "Genning algs of length 2...\n",
      "Genning algs of length 3...\n",
      "Genning algs of length 4...\n",
      "Genning algs of length 5...\n",
      "Genning algs of length 6...\n",
      "Genning algs of length 7...\n",
      "Genning algs of length 8...\n",
      "Generating table...\n"
     ]
    }
   ],
   "source": [
    "def gen_table(depth, print_progress = False):\n",
    "    algs = gen_all_algs(depth, print_progress)\n",
    "    table = {}\n",
    "    if print_progress:\n",
    "        print(\"Generating table...\")\n",
    "    for alg in algs:\n",
    "        cube = get_cube(alg)\n",
    "        ID = get_id_from_state(cube)\n",
    "        if ID not in table:\n",
    "            table[ID] = inv(alg)\n",
    "\n",
    "    return table\n",
    "\n",
    "table = gen_table(8, True)"
   ]
  },
  {
   "cell_type": "code",
   "execution_count": 8,
   "metadata": {},
   "outputs": [
    {
     "data": {
      "text/plain": [
       "\"F2 R U F' R2 F R' F U R2\""
      ]
     },
     "execution_count": 8,
     "metadata": {},
     "output_type": "execute_result"
    }
   ],
   "source": [
    "def solver(cube, search_algs, table):\n",
    "    ID = get_id_from_state(cube)\n",
    "    if ID in table:\n",
    "        return table[ID]\n",
    "    \n",
    "    for alg in search_algs:\n",
    "        cube = apply_alg(cube, alg)\n",
    "        ID = get_id_from_state(cube)\n",
    "        if ID in table:\n",
    "            return alg + \" \" + table[ID]\n",
    "        cube = apply_alg(cube, inv(alg))\n",
    "        \n",
    "    return \"No solution found\"\n",
    "\n",
    "search_algs = gen_all_algs(3)\n",
    "\n",
    "cube = get_cube(\"R U R' U' R' F R2 U' R' U' R U R' F'\")\n",
    "solver(cube, search_algs, table)"
   ]
  },
  {
   "cell_type": "code",
   "execution_count": 9,
   "metadata": {},
   "outputs": [
    {
     "name": "stdout",
     "output_type": "stream",
     "text": [
      "0.5085499286651611\n"
     ]
    }
   ],
   "source": [
    "t = time.time()\n",
    "for i in range(10000):\n",
    "    cube = get_cube(\"R U R' U' R' F R2 U' R' U' R U R' F'\")\n",
    "    solver(cube, search_algs, table)\n",
    "print(time.time()-t)"
   ]
  },
  {
   "cell_type": "code",
   "execution_count": 14,
   "metadata": {},
   "outputs": [],
   "source": [
    "# load scrambles.csv - it's a csv file with a bunch of scrambles\n",
    "# there are many columns, we only want the first one, from the 1st row (not the header)\n",
    "# there are ; in the csv file, we want to split by that\n",
    "\n",
    "import csv\n",
    "\n",
    "scrambles = []\n",
    "with open(\"scrambles.csv\") as f:\n",
    "    reader = csv.reader(f)\n",
    "    for row in reader:\n",
    "        scrambles.append(row[0].split(\";\")[0])\n",
    "\n",
    "scrambles = scrambles[1:]"
   ]
  },
  {
   "cell_type": "code",
   "execution_count": 22,
   "metadata": {},
   "outputs": [
    {
     "name": "stdout",
     "output_type": "stream",
     "text": [
      "0/301183 done in 0.0 seconds\n",
      "3000/301183 done in 0.08676266670227051 seconds\n",
      "6000/301183 done in 0.17235636711120605 seconds\n",
      "9000/301183 done in 0.24095535278320312 seconds\n",
      "12000/301183 done in 0.31084465980529785 seconds\n",
      "15000/301183 done in 0.37687206268310547 seconds\n",
      "18000/301183 done in 0.4420146942138672 seconds\n",
      "21000/301183 done in 0.5106029510498047 seconds\n",
      "24000/301183 done in 0.592308521270752 seconds\n",
      "27000/301183 done in 0.6871230602264404 seconds\n",
      "30000/301183 done in 0.7556936740875244 seconds\n",
      "33000/301183 done in 0.8212594985961914 seconds\n",
      "36000/301183 done in 0.8919789791107178 seconds\n",
      "39000/301183 done in 0.9621076583862305 seconds\n",
      "42000/301183 done in 1.032104730606079 seconds\n",
      "45000/301183 done in 1.0998268127441406 seconds\n",
      "48000/301183 done in 1.1929802894592285 seconds\n",
      "51000/301183 done in 1.2931387424468994 seconds\n",
      "54000/301183 done in 1.379338264465332 seconds\n",
      "57000/301183 done in 1.4617602825164795 seconds\n",
      "60000/301183 done in 1.5354280471801758 seconds\n",
      "63000/301183 done in 1.6050059795379639 seconds\n",
      "66000/301183 done in 1.679011583328247 seconds\n",
      "69000/301183 done in 1.7690606117248535 seconds\n",
      "72000/301183 done in 1.8656914234161377 seconds\n",
      "75000/301183 done in 1.963855504989624 seconds\n",
      "78000/301183 done in 2.0292086601257324 seconds\n",
      "81000/301183 done in 2.096820592880249 seconds\n",
      "84000/301183 done in 2.166820526123047 seconds\n",
      "87000/301183 done in 2.2526116371154785 seconds\n",
      "90000/301183 done in 2.343733549118042 seconds\n",
      "93000/301183 done in 2.4406988620758057 seconds\n",
      "96000/301183 done in 2.539231538772583 seconds\n",
      "99000/301183 done in 2.627108097076416 seconds\n",
      "102000/301183 done in 2.6975512504577637 seconds\n",
      "105000/301183 done in 2.765714645385742 seconds\n",
      "108000/301183 done in 2.8335623741149902 seconds\n",
      "111000/301183 done in 2.9116852283477783 seconds\n",
      "114000/301183 done in 3.011697292327881 seconds\n",
      "117000/301183 done in 3.1063437461853027 seconds\n",
      "120000/301183 done in 3.1786561012268066 seconds\n",
      "123000/301183 done in 3.2465875148773193 seconds\n",
      "126000/301183 done in 3.3352952003479004 seconds\n",
      "129000/301183 done in 3.432753562927246 seconds\n",
      "132000/301183 done in 3.5218851566314697 seconds\n",
      "135000/301183 done in 3.5899641513824463 seconds\n",
      "138000/301183 done in 3.6590428352355957 seconds\n",
      "141000/301183 done in 3.7463884353637695 seconds\n",
      "144000/301183 done in 3.8350703716278076 seconds\n",
      "147000/301183 done in 3.9050252437591553 seconds\n",
      "150000/301183 done in 3.9738030433654785 seconds\n",
      "153000/301183 done in 4.060717582702637 seconds\n",
      "156000/301183 done in 4.163193225860596 seconds\n",
      "159000/301183 done in 4.237304210662842 seconds\n",
      "162000/301183 done in 4.319424867630005 seconds\n",
      "165000/301183 done in 4.387670516967773 seconds\n",
      "168000/301183 done in 4.457494258880615 seconds\n",
      "171000/301183 done in 4.52720832824707 seconds\n",
      "174000/301183 done in 4.597876787185669 seconds\n",
      "177000/301183 done in 4.6931374073028564 seconds\n",
      "180000/301183 done in 4.7924158573150635 seconds\n",
      "183000/301183 done in 4.873080015182495 seconds\n",
      "186000/301183 done in 4.944736003875732 seconds\n",
      "189000/301183 done in 5.040941476821899 seconds\n",
      "192000/301183 done in 5.133784055709839 seconds\n",
      "195000/301183 done in 5.207409858703613 seconds\n",
      "198000/301183 done in 5.287078380584717 seconds\n",
      "201000/301183 done in 5.375452756881714 seconds\n",
      "204000/301183 done in 5.469714641571045 seconds\n",
      "207000/301183 done in 5.545084238052368 seconds\n",
      "210000/301183 done in 5.617242336273193 seconds\n",
      "213000/301183 done in 5.684276342391968 seconds\n",
      "216000/301183 done in 5.76296067237854 seconds\n",
      "219000/301183 done in 5.8406617641448975 seconds\n",
      "222000/301183 done in 5.912057161331177 seconds\n",
      "225000/301183 done in 5.994232416152954 seconds\n",
      "228000/301183 done in 6.096662282943726 seconds\n",
      "231000/301183 done in 6.181857109069824 seconds\n",
      "234000/301183 done in 6.262991189956665 seconds\n",
      "237000/301183 done in 6.3598473072052 seconds\n",
      "240000/301183 done in 6.451783895492554 seconds\n",
      "243000/301183 done in 6.553347110748291 seconds\n",
      "246000/301183 done in 6.629218816757202 seconds\n",
      "249000/301183 done in 6.7126710414886475 seconds\n",
      "252000/301183 done in 6.779832363128662 seconds\n",
      "255000/301183 done in 6.84929347038269 seconds\n",
      "258000/301183 done in 6.923089027404785 seconds\n",
      "261000/301183 done in 6.993139982223511 seconds\n",
      "264000/301183 done in 7.063853979110718 seconds\n",
      "267000/301183 done in 7.156714200973511 seconds\n",
      "270000/301183 done in 7.2508625984191895 seconds\n",
      "273000/301183 done in 7.348824977874756 seconds\n",
      "276000/301183 done in 7.446957588195801 seconds\n",
      "279000/301183 done in 7.548851728439331 seconds\n",
      "282000/301183 done in 7.627294301986694 seconds\n",
      "285000/301183 done in 7.713732481002808 seconds\n",
      "288000/301183 done in 7.7833092212677 seconds\n",
      "291000/301183 done in 7.859550952911377 seconds\n",
      "294000/301183 done in 7.960625648498535 seconds\n",
      "297000/301183 done in 8.05876898765564 seconds\n",
      "300000/301183 done in 8.158201217651367 seconds\n",
      "8.197108507156372\n"
     ]
    }
   ],
   "source": [
    "t = time.time()\n",
    "lengths = [0]*12\n",
    "for i, scramble in enumerate(scrambles):\n",
    "    if i % 3000 == 0:\n",
    "        print(f\"{i}/{len(scrambles)} done in {time.time()-t} seconds\")\n",
    "    cube = get_cube(scramble)\n",
    "    sol = solver(cube, search_algs, table)\n",
    "    lengths[len(sol.split(\" \"))] += 1\n",
    "\n",
    "print(time.time()-t)\n",
    "    "
   ]
  },
  {
   "cell_type": "code",
   "execution_count": 23,
   "metadata": {},
   "outputs": [
    {
     "data": {
      "text/plain": [
       "[0, 0, 0, 0, 151, 766, 4032, 18511, 71617, 148265, 57631, 210]"
      ]
     },
     "execution_count": 23,
     "metadata": {},
     "output_type": "execute_result"
    }
   ],
   "source": []
  }
 ],
 "metadata": {
  "kernelspec": {
   "display_name": "base",
   "language": "python",
   "name": "python3"
  },
  "language_info": {
   "codemirror_mode": {
    "name": "ipython",
    "version": 3
   },
   "file_extension": ".py",
   "mimetype": "text/x-python",
   "name": "python",
   "nbconvert_exporter": "python",
   "pygments_lexer": "ipython3",
   "version": "3.9.13"
  }
 },
 "nbformat": 4,
 "nbformat_minor": 2
}
