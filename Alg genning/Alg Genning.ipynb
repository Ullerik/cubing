{
 "cells": [
  {
   "cell_type": "code",
   "execution_count": 1,
   "id": "ddcdcde6",
   "metadata": {},
   "outputs": [
    {
     "name": "stdout",
     "output_type": "stream",
     "text": [
      "Support algs imported!\n",
      "Cube initiated\n"
     ]
    }
   ],
   "source": [
    "%run ../cube/Cube.ipynb"
   ]
  },
  {
   "cell_type": "code",
   "execution_count": 2,
   "metadata": {},
   "outputs": [],
   "source": [
    "import json"
   ]
  },
  {
   "cell_type": "code",
   "execution_count": 3,
   "metadata": {},
   "outputs": [
    {
     "data": {
      "text/plain": [
       "array([1, 3, 6, 0])"
      ]
     },
     "execution_count": 3,
     "metadata": {},
     "output_type": "execute_result"
    }
   ],
   "source": [
    "@njit\n",
    "def _inc_special(ids):\n",
    "    for i in range(len(ids)):\n",
    "        ids[i]+=1\n",
    "        ids[i]%=9 # change based on number of moves\n",
    "        if ids[i]:\n",
    "            break\n",
    "    return ids\n",
    "\n",
    "@njit\n",
    "def _is_valid_special(length,ids):\n",
    "    for i in range(length-1):\n",
    "        if ids[i]//3==ids[i+1]//3:\n",
    "            return False\n",
    "        # if ids[i]//6==ids[i+1]//6 and (ids[i]//3)%2:\n",
    "        #     return False\n",
    "    return True      \n",
    "\n",
    "@njit\n",
    "def _increment_special(length,ids):\n",
    "    ids = _inc_special(ids)\n",
    "    while not _is_valid_special(length,ids):\n",
    "        ids = _inc_special(ids)\n",
    "    return ids\n",
    "\n",
    "length = 4\n",
    "ids = np.array([0,3,6,0])\n",
    "_increment_special(length,ids)\n"
   ]
  },
  {
   "cell_type": "code",
   "execution_count": 4,
   "metadata": {},
   "outputs": [],
   "source": [
    "class alg_index_special:\n",
    "    def __init__(self, length):\n",
    "        '''\n",
    "        length: int\n",
    "        '''\n",
    "        self.length = length\n",
    "        self.moves = [\"U\",\"U'\",\"U2\",\"R\",\"R'\",\"R2\",\"F\",\"F'\",\"F2\"] # change to whatever you want to gen # ,\"F\",\"F'\",\"F2\"\n",
    "        self.ids = np.array(([0,3,6]*int(length/3+1))[:length]) # change based on type of algs you gen\n",
    "    \n",
    "    def is_valid(self):\n",
    "        return _is_valid_special(self.length,self.ids)\n",
    "    \n",
    "    def inc(self):\n",
    "        ids = _inc_special(ids)\n",
    "    \n",
    "    def increment(self):\n",
    "        self.ids = _increment_special(self.length,self.ids)\n",
    "    \n",
    "    def get_alg(self):\n",
    "        scr = self.moves[self.ids[0]]\n",
    "        for i in range(1,len(self.ids)):\n",
    "            scr += f\" {self.moves[self.ids[i]]}\"\n",
    "        return scr\n",
    "\n",
    "# ai = alg_index_special(2)\n",
    "# for i in range(500):\n",
    "#     if ai.get_alg() == \"F U\":\n",
    "#         print(ai.get_alg())\n",
    "#     ai.increment()"
   ]
  },
  {
   "cell_type": "code",
   "execution_count": 388,
   "metadata": {},
   "outputs": [
    {
     "name": "stdout",
     "output_type": "stream",
     "text": [
      "Algs of length 1 genned after 0.0s\n",
      "Algs of length 2 genned after 0.0s\n",
      "Algs of length 3 genned after 0.002s\n",
      "Algs of length 4 genned after 0.013s\n",
      "Algs of length 5 genned after 0.079s\n",
      "Algs of length 6 genned after 0.394s\n",
      "32842\n",
      "32842\n",
      "['U', \"f U'\", 'f U2', 'f R', \"f R'\", 'f F', \"f F'\", 'f F2', 'U R', \"f U' R\"]\n"
     ]
    }
   ],
   "source": [
    "def check_if_valid_alg(alg):\n",
    "    '''\n",
    "    check if valid alg\n",
    "    how: make \"alg index\" of the alg and check _is_valid\n",
    "    '''\n",
    "    valid_moves = [\"R\",\"R'\",\"R2\",\"L\",\"L'\",\"L2\",\"U\",\"U'\",\"U2\",\"D\",\"D'\",\"D2\",\"F\",\"F'\",\"F2\",\"B\",\"B'\",\"B2\"]\n",
    "    moves = alg.split(\" \")\n",
    "    length = len(moves)\n",
    "    ai = []\n",
    "\n",
    "    for move in moves:\n",
    "        move = move.upper()\n",
    "        if move == \"S\":\n",
    "            move = \"B\" # for now we'll just treat S as \n",
    "        if move == \"S'\":\n",
    "            move = \"B'\"\n",
    "        if move == \"M\":\n",
    "            move = \"L\"\n",
    "        if move == \"M'\":\n",
    "            move = \"L'\"\n",
    "        ai.append(valid_moves.index(move))\n",
    "\n",
    "    return _is_valid(length,np.array(ai))\n",
    "\n",
    "\n",
    "def gen_extra_algs(algs, insert_move, t = 0, print_time = True):\n",
    "    # note: this can gen R L and L R, should force only one order\n",
    "\n",
    "    extra_algs = []\n",
    "    k = 0\n",
    "    for a, alg in enumerate(algs):\n",
    "        moves = alg.split(\" \")[:-1] # we don't want the last move, since we're inserting a move after it\n",
    "\n",
    "        if 100*a//len(algs)>k:\n",
    "            k += 1\n",
    "            print(f\"{k}% done in {time.time()-t}\")\n",
    "\n",
    "        for i in range(len(moves)+1):\n",
    "            new_alg = \"\"\n",
    "            for j in range(len(moves)+1):\n",
    "                # make alg again, but insert insert_move between place j-1 and j\n",
    "                if i == j < len(moves):\n",
    "                    new_alg += insert_move + \" \" + moves[j] + \" \"\n",
    "                elif j < len(moves):\n",
    "                    new_alg += moves[j] + \" \"\n",
    "                elif i == j: # j == len(moves) and i == j means we add insert_move to the end\n",
    "                    new_alg += insert_move\n",
    "\n",
    "            app_alg = new_alg.strip()\n",
    "            if check_if_valid_alg(app_alg) and app_alg not in extra_algs:\n",
    "                extra_algs.append(app_alg)\n",
    "    return extra_algs\n",
    "\n",
    "\n",
    "def alg_good(alg):\n",
    "    # we assume the alg is valid, that is no two moves in a row are on the same face, so we don't check that\n",
    "    # returns true if alg is good, false if it's bad\n",
    "    # we just make some rules for what makes an alg bad\n",
    "\n",
    "    # rule 1: max 1 F2\n",
    "    if alg.count(\"F2\") > 1:\n",
    "        return False\n",
    "    # rule 2: max 2 double moves\n",
    "    if alg.count(\"2\") > 2:\n",
    "        return False\n",
    "    # rule 3: score_alg/count_moves(alg)\n",
    "\n",
    "    if score_alg(alg)/count_moves(alg) > 2:\n",
    "        return False\n",
    "\n",
    "    return True\n",
    "\n",
    "\n",
    "def gen_algs(n, min_length = 1, print_time = True, remove_bad = True):\n",
    "\n",
    "    algs = []\n",
    "\n",
    "    t = time.time()\n",
    "\n",
    "    for i in range(min_length - 1, n):\n",
    "        ai = alg_index_special(i+1)\n",
    "        start_alg = ai.get_alg()\n",
    "\n",
    "        algs.append(start_alg)\n",
    "        ai.increment()\n",
    "\n",
    "        while start_alg != ai.get_alg():\n",
    "            if remove_bad and not alg_good(ai.get_alg()):\n",
    "                ai.increment()\n",
    "                continue\n",
    "            algs.append(\"f \"+ai.get_alg())\n",
    "            ai.increment()\n",
    "\n",
    "        if print_time:\n",
    "            print(f\"Algs of length {i+1} genned after {round(time.time()-t,3)}s\")\n",
    "    \n",
    "    return algs\n",
    "\n",
    "def insert_move(algs, insert_move, invert = True, print_time = True):\n",
    "    t = time.time()\n",
    "    # if insert_move is set to a move\n",
    "    if insert_move:\n",
    "        if print_time:\n",
    "            print(f\"Inserting extra move\")\n",
    "        extra_algs = gen_extra_algs(algs, insert_move, t, print_time)\n",
    "        if invert:\n",
    "            if print_time:\n",
    "                print(f\"Extra move inserted after {round(time.time()-t,3)}s. Inserting inverse of extra move.\")\n",
    "            extra_algs += gen_extra_algs(algs, inverse_alg(insert_move), t, print_time)\n",
    "            print(f\"Extra inverse move added after {round(time.time()-t,3)}s\")\n",
    "\n",
    "        algs += extra_algs\n",
    "    return algs\n",
    "\n",
    "algs = gen_algs(6)\n",
    "print(len(algs))\n",
    "# algs = insert_move(algs, \"r\", invert = True)\n",
    "# algs = insert_move(algs, \"S\", invert = True)\n",
    "# algs = insert_move(algs, \"f\", invert = True)\n",
    "# algs = insert_move(algs, \"D\", invert = True)\n",
    "# algs = insert_move(algs, \"M\", invert = True)\n",
    "# algs = insert_move(algs, \"F\", invert = True)\n",
    "print(len(algs))"
   ]
  },
  {
   "cell_type": "code",
   "execution_count": 389,
   "metadata": {},
   "outputs": [
    {
     "data": {
      "text/plain": [
       "29751"
      ]
     },
     "execution_count": 389,
     "metadata": {},
     "output_type": "execute_result"
    }
   ],
   "source": [
    "def gen_table(algs):\n",
    "    '''\n",
    "    Gen dictionary with keys being cases reached by inverting each alg, with dict[case] = alg\n",
    "    '''\n",
    "    table = {}\n",
    "\n",
    "    for alg in algs:\n",
    "        inv = inverse_alg(alg)\n",
    "        # skip algs ending with U* as the first move is equivalent to a AUF\n",
    "        if alg[0]==\"U\":\n",
    "            continue\n",
    "\n",
    "        cube = Cube(2) # only F2L\n",
    "        cube.apply_moves(alg)\n",
    "        case = id_from_state(cube.state)\n",
    "\n",
    "        if case not in table.keys():\n",
    "            table[case] = [inv]\n",
    "        else:\n",
    "            table[case] += [inv]\n",
    "\n",
    "    return table\n",
    "\n",
    "table = gen_table(algs)\n",
    "len(table)"
   ]
  },
  {
   "cell_type": "code",
   "execution_count": 390,
   "metadata": {},
   "outputs": [],
   "source": [
    "def gen_LL_algs(algs, table, bridge = \"\", print_time = True):\n",
    "    '''\n",
    "    gens LL algs using algs as premoves and the table to finish the algs\n",
    "    '''\n",
    "    LL_algs = []\n",
    "\n",
    "    j = 0\n",
    "    t = time.time()\n",
    "    for i, premove in enumerate(algs):\n",
    "        if premove[0] == \"U\":\n",
    "            continue\n",
    "\n",
    "        # add extra alg\n",
    "        if bridge:\n",
    "            premove = cancel_alg(premove + \" \" + bridge)\n",
    "\n",
    "        if 10*i//len(algs)>j:\n",
    "            j += 1\n",
    "            print(f\"{10*j}% done in {time.time()-t}\")\n",
    "\n",
    "        cube = Cube(2)\n",
    "        cube.apply_moves(premove)\n",
    "\n",
    "        case = id_from_state(cube.state)\n",
    "        if case in table:\n",
    "            for finish in table[case]:\n",
    "                new_alg = cancel_alg(premove + \" \" + finish)\n",
    "\n",
    "                # append alg if it's not empty (\"\") and it doesn't exist already (duplicates from cancling moves for example)\n",
    "                if new_alg and new_alg not in LL_algs: \n",
    "                    LL_algs.append(new_alg)\n",
    "    \n",
    "    return LL_algs"
   ]
  },
  {
   "cell_type": "code",
   "execution_count": 391,
   "metadata": {},
   "outputs": [],
   "source": [
    "def score_alg(alg):\n",
    "    return len(alg.split(\" \"))*2 + alg.count(\"R2\")*0.5\n",
    "\n",
    "def sort_algs(algs):\n",
    "    '''\n",
    "    sort into dictionary based on which case the alg solves\n",
    "    '''\n",
    "    LL_algs_dict = {}\n",
    "    for alg in algs:\n",
    "        ID = 0\n",
    "        for u1 in [\"\", \"U \", \"U2 \", \"U' \"]:\n",
    "            for u2 in [\"\", \" U\", \" U2\", \" U'\"]:\n",
    "                u_alg_u = u1+alg+u2\n",
    "                cube = Cube()\n",
    "                cube.apply_moves(u_alg_u)\n",
    "\n",
    "                case = id_from_state(cube.state)\n",
    "                if case in LL_algs_dict:\n",
    "                    ID = case\n",
    "        if ID:\n",
    "            LL_algs_dict[ID] += [alg]\n",
    "        else:\n",
    "            cube = Cube()\n",
    "            cube.apply_moves(alg)\n",
    "            ID = id_from_state(cube.state)\n",
    "            LL_algs_dict[ID] = [alg]\n",
    "\n",
    "    # sort the lists in the dict according to length of algs\n",
    "    sorted_dict = {key: sorted(value, key=score_alg) for key, value in LL_algs_dict.items()}\n",
    "    \n",
    "    return sorted_dict"
   ]
  },
  {
   "cell_type": "code",
   "execution_count": 392,
   "metadata": {},
   "outputs": [],
   "source": [
    "def score_key(key):\n",
    "    return score_alg(LL_algs_dict[key][0])"
   ]
  },
  {
   "cell_type": "code",
   "execution_count": 393,
   "metadata": {},
   "outputs": [],
   "source": [
    "def zblls_only(LL_algs_dict):\n",
    "    '''\n",
    "    remove all algs that are not zblls\n",
    "    '''\n",
    "    new_dict = {}\n",
    "    for key, algs in LL_algs_dict.items():\n",
    "        cube = Cube()\n",
    "        cube.apply_moves(algs[0])\n",
    "        case_edges = id_from_state(cube.state,np.array([37,39,40,41,43]))\n",
    "\n",
    "        if case_edges == \"55555\":\n",
    "            new_dict[key] = algs\n",
    "    return new_dict"
   ]
  },
  {
   "cell_type": "code",
   "execution_count": 394,
   "id": "d391ce50",
   "metadata": {},
   "outputs": [
    {
     "name": "stdout",
     "output_type": "stream",
     "text": [
      "10% done in 0.12070369720458984\n",
      "20% done in 0.20722079277038574\n",
      "30% done in 0.29561519622802734\n",
      "40% done in 0.3916661739349365\n",
      "50% done in 0.4850163459777832\n",
      "60% done in 0.5976128578186035\n",
      "70% done in 0.697484016418457\n",
      "80% done in 0.8149588108062744\n",
      "90% done in 0.9350931644439697\n",
      "1160\n",
      "667\n",
      "122\n",
      "Algs genned:\n",
      "  T - 20\n",
      "  L - 24\n",
      "  sune - 16\n",
      "  pll - 8\n",
      "  H - 5\n",
      "  U - 27\n",
      "  antisune - 15\n",
      "  pi - 7\n"
     ]
    }
   ],
   "source": [
    "# dictionary of all cases we reach by applying the alg backwards to a cube in state 3\n",
    "olls_dict = {\n",
    "    \"pll\": ['000111111000222222000333333000444444555555555666666666'],\n",
    "    \"sune\": ['005111111005222222005333333000444444050555550666666666', '005111111005222222000333333005444444550555050666666666', '005111111000222222005333333005444444055555050666666666', '000111111005222222005333333005444444050555055666666666'],\n",
    "    \"antisune\": ['500111111500222222000333333500444444055555050666666666', '500111111000222222500333333500444444050555055666666666', '000111111500222222500333333500444444050555550666666666', '500111111500222222500333333000444444550555050666666666'],\n",
    "    \"pi\": ['005111111000222222500333333505444444050555050666666666', '000111111500222222505333333005444444050555050666666666', '500111111505222222005333333000444444050555050666666666', '505111111005222222000333333500444444050555050666666666'],\n",
    "    \"H\": ['000111111505222222000333333505444444050555050666666666', '505111111000222222505333333000444444050555050666666666'],\n",
    "    \"L\": ['500111111005222222000333333000444444550555055666666666', '005111111000222222000333333500444444055555550666666666', '000111111000222222500333333005444444550555055666666666', '000111111500222222005333333000444444055555550666666666'],\n",
    "    \"T\": ['500111111000222222005333333000444444055555055666666666', '000111111005222222000333333500444444050555555666666666', '005111111000222222500333333000444444550555550666666666', '000111111500222222000333333005444444555555050666666666'],\n",
    "    \"U\": ['505111111000222222000333333000444444555555050666666666', '000111111000222222000333333505444444055555055666666666', '000111111000222222505333333000444444050555555666666666', '000111111505222222000333333000444444550555550666666666']\n",
    "}\n",
    "\n",
    "# invert the olls_dict\n",
    "oll_dict_ = {}\n",
    "for key, value in olls_dict.items():\n",
    "    for v in value:\n",
    "        oll_dict_[v] = key\n",
    "\n",
    "def categorize_zblls(zblls):\n",
    "    '''\n",
    "    For each item in zblls, apply the first alg backwards to a cube in state 3, and check which subset it belongs to\n",
    "    Then append the key and value to a new dictionary which is a subset of a new dictionary\n",
    "    '''\n",
    "    new_dict = {}\n",
    "    for key, algs in zblls.items():\n",
    "        cube = Cube(3)\n",
    "        cube.apply_moves(inverse_alg(algs[0]))\n",
    "        case = id_from_state(cube.state)\n",
    "        if case in oll_dict_:\n",
    "            if oll_dict_[case] in new_dict:\n",
    "                new_dict[oll_dict_[case]][key] = algs\n",
    "            else:\n",
    "                new_dict[oll_dict_[case]] = {key: algs}\n",
    "        else:\n",
    "            print(f\"Case {case} not in oll_dict\")\n",
    "\n",
    "    return new_dict\n",
    "\n",
    "LL_algs = gen_LL_algs(algs, table, bridge = \"R U R' U'\", print_time = True)\n",
    "print(len(LL_algs))\n",
    "LL_algs_dict = sort_algs(LL_algs)\n",
    "print(len(LL_algs_dict))\n",
    "LL_keys = list(LL_algs_dict.keys())\n",
    "sorted_LL_keys = sorted(LL_algs_dict, key = score_key)\n",
    "zblls = zblls_only(LL_algs_dict)\n",
    "print(len(zblls))\n",
    "zbll_keys = list(zblls.keys())\n",
    "sorted_zblls_keys = sorted(zblls, key = score_key)\n",
    "zblls_categorized = categorize_zblls(zblls)\n",
    "# print the keys for zblls_categorized so we know which cases we have genned algs for\n",
    "print(\"Algs genned:\")\n",
    "# print the length of each subset\n",
    "for key, value in zblls_categorized.items():\n",
    "    print(f\"  {key} - {len(value)}\")\n"
   ]
  },
  {
   "cell_type": "code",
   "execution_count": 395,
   "id": "eba5873a",
   "metadata": {},
   "outputs": [
    {
     "name": "stdout",
     "output_type": "stream",
     "text": [
      "8\n"
     ]
    }
   ],
   "source": [
    "# decide which subset to look at\n",
    "# subsets: pll, sune, antisune, pi, H, L, T, U\n",
    "subset = \"pll\"\n",
    "sorted_subset_keys = sorted(zblls_categorized[subset], key = score_key)\n",
    "print(len(zblls_categorized[subset]))\n",
    "i = -1"
   ]
  },
  {
   "cell_type": "code",
   "execution_count": 404,
   "id": "c65b1c31",
   "metadata": {},
   "outputs": [
    {
     "ename": "IndexError",
     "evalue": "list index out of range",
     "output_type": "error",
     "traceback": [
      "\u001b[1;31m---------------------------------------------------------------------------\u001b[0m",
      "\u001b[1;31mIndexError\u001b[0m                                Traceback (most recent call last)",
      "\u001b[1;32m~\\AppData\\Local\\Temp\\ipykernel_14880\\2866338477.py\u001b[0m in \u001b[0;36m<module>\u001b[1;34m\u001b[0m\n\u001b[0;32m      2\u001b[0m \u001b[0mi\u001b[0m \u001b[1;33m+=\u001b[0m \u001b[1;36m1\u001b[0m\u001b[1;33m\u001b[0m\u001b[1;33m\u001b[0m\u001b[0m\n\u001b[0;32m      3\u001b[0m \u001b[1;33m\u001b[0m\u001b[0m\n\u001b[1;32m----> 4\u001b[1;33m \u001b[0mkey\u001b[0m \u001b[1;33m=\u001b[0m \u001b[0msorted_subset_keys\u001b[0m\u001b[1;33m[\u001b[0m\u001b[0mi\u001b[0m\u001b[1;33m]\u001b[0m\u001b[1;33m\u001b[0m\u001b[1;33m\u001b[0m\u001b[0m\n\u001b[0m\u001b[0;32m      5\u001b[0m \u001b[0malgs_LL\u001b[0m \u001b[1;33m=\u001b[0m \u001b[0mzblls_categorized\u001b[0m\u001b[1;33m[\u001b[0m\u001b[0msubset\u001b[0m\u001b[1;33m]\u001b[0m\u001b[1;33m[\u001b[0m\u001b[0mkey\u001b[0m\u001b[1;33m]\u001b[0m\u001b[1;33m\u001b[0m\u001b[1;33m\u001b[0m\u001b[0m\n\u001b[0;32m      6\u001b[0m \u001b[0mcube\u001b[0m \u001b[1;33m=\u001b[0m \u001b[0mCube\u001b[0m\u001b[1;33m(\u001b[0m\u001b[1;33m)\u001b[0m\u001b[1;33m\u001b[0m\u001b[1;33m\u001b[0m\u001b[0m\n",
      "\u001b[1;31mIndexError\u001b[0m: list index out of range"
     ]
    }
   ],
   "source": [
    "# i -= 2 # -1 overall \n",
    "i += 1\n",
    "\n",
    "key = sorted_subset_keys[i]\n",
    "algs_LL = zblls_categorized[subset][key]\n",
    "cube = Cube()\n",
    "cube.apply_moves(inverse_alg(algs_LL[0]))\n",
    "cube.plot()\n",
    "\n",
    "print(i) \n",
    "for j, alg in enumerate(algs_LL):\n",
    "    print(f\"{j+1}. {alg} ({len(alg.split(' '))})\")"
   ]
  },
  {
   "cell_type": "code",
   "execution_count": 435,
   "id": "8ca3eff2",
   "metadata": {},
   "outputs": [
    {
     "data": {
      "image/png": "[encoded data removed]",
      "text/plain": [
       "<Figure size 400x300 with 1 Axes>"
      ]
     },
     "metadata": {},
     "output_type": "display_data"
    },
    {
     "name": "stdout",
     "output_type": "stream",
     "text": [
      "28\n",
      "1. f U' R' U2 R' U2 R2 U R' f' (10)\n"
     ]
    }
   ],
   "source": [
    "# i = -1\n",
    "# i -= 2\n",
    "i += 1\n",
    "\n",
    "key = sorted_LL_keys[i]\n",
    "algs_LL = LL_algs_dict[key]\n",
    "cube = Cube()\n",
    "cube.apply_moves(inverse_alg(algs_LL[0]))\n",
    "cube.plot()\n",
    "\n",
    "print(i)\n",
    "for j, alg in enumerate(algs_LL):\n",
    "    print(f\"{j+1}. {alg} ({len(alg.split(' '))})\")"
   ]
  },
  {
   "cell_type": "code",
   "execution_count": 604,
   "metadata": {},
   "outputs": [
    {
     "data": {
      "image/png": "[encoded data removed]",
      "text/plain": [
       "<Figure size 400x300 with 1 Axes>"
      ]
     },
     "metadata": {},
     "output_type": "display_data"
    },
    {
     "data": {
      "text/plain": [
       "\"F' R' F2 U2 r' D'\""
      ]
     },
     "execution_count": 604,
     "metadata": {},
     "output_type": "execute_result"
    }
   ],
   "source": [
    "new_alg = \"F R U' R' U' R U2 R' U' R U' R' U' R U2 R' U' F'\"\n",
    "# new_alg = \"R' U R U R' F' R U R' U' R' F R2 U' R' U2 R U' R' U2 R\"\n",
    "# new_alg = \"R' U' R U' R' U2 R2 U2 L' U R' U' L U' R U' R'\"\n",
    "# new_alg = \"R U R D R' U2 R D' R' U' R' U R U' R' U' R U' R'\"\n",
    "\n",
    "cube = Cube()\n",
    "cube.apply_moves(new_alg)\n",
    "cube.plot()\n",
    "\n",
    "case_id = id_from_state(cube.state)\n",
    "\n",
    "algs[-1]"
   ]
  },
  {
   "cell_type": "code",
   "execution_count": 606,
   "metadata": {},
   "outputs": [
    {
     "name": "stdout",
     "output_type": "stream",
     "text": [
      "10% done in 0.39534997940063477\n",
      "20% done in 0.7755117416381836\n",
      "30% done in 1.1906659603118896\n",
      "40% done in 1.7267179489135742\n",
      "50% done in 2.082810640335083\n",
      "60% done in 2.456770181655884\n",
      "70% done in 2.9528427124023438\n",
      "80% done in 3.3325576782226562\n",
      "90% done in 3.7366702556610107\n"
     ]
    }
   ],
   "source": [
    "def check_if_case(alg, case):\n",
    "    for u1 in [\"\", \"U \", \"U2 \", \"U' \"]:\n",
    "        for u2 in [\"\", \" U\", \" U2\", \" U'\"]:\n",
    "            u_alg_u = u1+alg+u2\n",
    "            cube = Cube()\n",
    "            cube.apply_moves(u_alg_u)\n",
    "\n",
    "            case_id = id_from_state(cube.state)\n",
    "            if case_id == case:\n",
    "                return True\n",
    "    return False\n",
    "\n",
    "\n",
    "def find_specific_case(case_id, algs, table, bridge = \"\", print_time = True): # TODO: add so it also looks for opposite case, and just invert the alg\n",
    "    '''\n",
    "    gens LL algs using algs as premoves and the table to finish the algs\n",
    "    '''\n",
    "    case_algs = []\n",
    "\n",
    "    j = 0\n",
    "    t = time.time()\n",
    "    for i, premove in enumerate(algs):\n",
    "        if premove[0] == \"U\":\n",
    "            continue\n",
    "\n",
    "        # add extra alg\n",
    "        if bridge:\n",
    "            premove = cancel_alg(premove + \" \" + bridge)\n",
    "\n",
    "        if 10*i//len(algs)>j:\n",
    "            j += 1\n",
    "            print(f\"{10*j}% done in {time.time()-t}\")\n",
    "\n",
    "        cube = Cube(2)\n",
    "        cube.apply_moves(premove)\n",
    "\n",
    "        case = id_from_state(cube.state)\n",
    "        if case in table:\n",
    "            for finish in table[case]:\n",
    "                new_alg = cancel_alg(premove + \" \" + finish)\n",
    "\n",
    "                # append alg if it's not empty (\"\") and it doesn't exist already (duplicates from cancling moves for example)\n",
    "                if new_alg and check_if_case(new_alg, case_id):\n",
    "                    case_algs.append(new_alg)\n",
    "    \n",
    "    return case_algs\n",
    "\n",
    "case_algs = find_specific_case(case_id, algs, table, bridge = \"D' r U' r' D\", print_time = True)\n",
    "for alg in case_algs:\n",
    "    print(f\"{alg} ({len(alg.split(' '))})\")\n"
   ]
  },
  {
   "cell_type": "code",
   "execution_count": 34,
   "id": "52fcf159",
   "metadata": {},
   "outputs": [
    {
     "data": {
      "image/png": "[encoded data removed]",
      "text/plain": [
       "<Figure size 400x300 with 1 Axes>"
      ]
     },
     "metadata": {},
     "output_type": "display_data"
    }
   ],
   "source": [
    "cube = Cube()\n",
    "cube.apply_moves(inverse_alg(\"R' F' U' F U D' r U' r' D R F' U F\"))\n",
    "cube.plot()"
   ]
  },
  {
   "cell_type": "code",
   "execution_count": null,
   "id": "4129ecd1",
   "metadata": {},
   "outputs": [],
   "source": [
    "triggers = [\"R U R' U'\", \"F R U R' U' F'\", \"D' R U R' D\", \"D' R U' R' D\", \"D' R U2 R' D\", \"D' r U r' D\", \"D' r U2 r' D\", \"S R' U' R U R S'\", \"S' R U R' S\", \"S' R U' R' S\", \"S' R U2 R' S\"]"
   ]
  }
 ],
 "metadata": {
  "kernelspec": {
   "display_name": "Python 3 (ipykernel)",
   "language": "python",
   "name": "python3"
  },
  "language_info": {
   "codemirror_mode": {
    "name": "ipython",
    "version": 3
   },
   "file_extension": ".py",
   "mimetype": "text/x-python",
   "name": "python",
   "nbconvert_exporter": "python",
   "pygments_lexer": "ipython3",
   "version": "3.9.13"
  }
 },
 "nbformat": 4,
 "nbformat_minor": 5
}
