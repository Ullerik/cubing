{
 "cells": [
  {
   "cell_type": "code",
   "execution_count": 1,
   "id": "eaa48917",
   "metadata": {},
   "outputs": [
    {
     "name": "stdout",
     "output_type": "stream",
     "text": [
      "Support algs imported!\n"
     ]
    },
    {
     "data": {
      "image/png": "[encoded data removed]",
      "text/plain": [
       "<Figure size 400x300 with 1 Axes>"
      ]
     },
     "metadata": {},
     "output_type": "display_data"
    },
    {
     "data": {
      "image/png": "[encoded data removed]",
      "text/plain": [
       "<Figure size 400x300 with 1 Axes>"
      ]
     },
     "metadata": {},
     "output_type": "display_data"
    },
    {
     "name": "stdout",
     "output_type": "stream",
     "text": [
      "Cube initiated\n"
     ]
    }
   ],
   "source": [
    "%run \"2gen optimal solver.ipynb\""
   ]
  },
  {
   "cell_type": "code",
   "execution_count": 2,
   "id": "7bd027bb",
   "metadata": {},
   "outputs": [
    {
     "data": {
      "text/plain": [
       "         36 37 38\n",
       "         39 40 41\n",
       "         42 43 44\n",
       "27 28 29  0 1 2  9 10 11  18 19 20\n",
       "30 31 32  3 4 5  12 13 14  21 22 23\n",
       "33 34 35  6 7 8  15 16 17  24 25 26\n",
       "         45 46 47\n",
       "         48 49 50\n",
       "         51 52 53"
      ]
     },
     "execution_count": 2,
     "metadata": {},
     "output_type": "execute_result"
    }
   ],
   "source": [
    "cube = Cube()\n",
    "# cube.apply_moves(\"R U' R U' R U' R U' R U' R U' R U' R U' R U' R U' R U'\")\n",
    "# solver_2gen(cube)\n",
    "\n",
    "cube1 = Cube(1)\n",
    "cube1\n",
    "\n",
    "# [12,5,10,41,1,43,28,39,19,37] (edges top + FR)\n",
    "# [37,39,41,43,0,1,2,9,10,11,18,19,20,27,28,29,5,8,12,15,47] # (FR + FRD + top layer - top corners)"
   ]
  },
  {
   "cell_type": "code",
   "execution_count": 3,
   "id": "6df594a4",
   "metadata": {},
   "outputs": [
    {
     "data": {
      "text/plain": [
       "'2125154535'"
      ]
     },
     "execution_count": 3,
     "metadata": {},
     "output_type": "execute_result"
    }
   ],
   "source": [
    "def ids_solved(cubestate, ids):\n",
    "    solved_state = np.array([1]*9+[2]*9+[3]*9+[4]*9+[5]*9+[6]*9)\n",
    "    for i in ids:\n",
    "        if cubestate[i] != solved_state[i]:\n",
    "            return False\n",
    "    return True\n",
    "\n",
    "cube = Cube()\n",
    "\n",
    "ids = [0,42,2,44,18,38,20,36,8,47, 50,14,21]\n",
    "\n",
    "ids_solved(cube.state,ids)\n",
    "\n",
    "def get_edge_state(cube, ids = [12,5,10,41,1,43,28,39,19,37]):\n",
    "    string = \"\"\n",
    "    for i in ids:\n",
    "        string += str(cube.state[i])\n",
    "    return string\n",
    "\n",
    "get_edge_state(cube)"
   ]
  },
  {
   "cell_type": "code",
   "execution_count": 4,
   "id": "cc3ab1e5",
   "metadata": {
    "scrolled": true
   },
   "outputs": [
    {
     "name": "stdout",
     "output_type": "stream",
     "text": [
      "Subalgs generated (0.0836s)\n",
      "Lookup table generated (0.7239s)\n",
      "Algs generated (1.354s)\n",
      "60\n"
     ]
    }
   ],
   "source": [
    "'''\n",
    "Gen algs for swapping edges in top + RF\n",
    "How?\n",
    "Table lookup from solved\n",
    "\n",
    "\n",
    "'''\n",
    "# @njit\n",
    "def get_cube_state(cubestate):\n",
    "    state = \"\"\n",
    "    for i in [0,1,2,3,4,5,6,7,8,9,10,11,12,13,14,15,17,18,19,20,21,23,24,25,26,27,28,39,30,32,33,34,35,37,39,41,43,46,48]: # enough IDs to make each cube unique\n",
    "        state += str(cubestate[i])\n",
    "    return state\n",
    "\n",
    "def gray_cube(ids):\n",
    "    cube = Cube()\n",
    "    for i in ids:\n",
    "        cube.state[i] = 0\n",
    "    return cube\n",
    "\n",
    "def gen_subalgs(N): # , moveset?\n",
    "    subalgs = []\n",
    "    for n in range(1,N+1):\n",
    "        ai = alg_index_2gen(n) # change depending on moveset\n",
    "        start_alg = ai.get_alg()\n",
    "        subalgs.append(start_alg)\n",
    "        ai.increment()\n",
    "        while ai.get_alg() != start_alg:\n",
    "            subalgs.append(ai.get_alg())\n",
    "            ai.increment()\n",
    "    return subalgs\n",
    "\n",
    "def gen_table(subalgs, ids_grayed, save_table = False):\n",
    "    table = {}\n",
    "    for alg in subalgs:\n",
    "        cube = gray_cube(ids_grayed)\n",
    "        cube.apply_moves(alg)\n",
    "        state = get_cube_state(cube.state)\n",
    "        if state in table:\n",
    "            table[state].append(inverse_alg(alg))\n",
    "        else:\n",
    "            table[state] = [inverse_alg(alg)]\n",
    "    return table\n",
    "\n",
    "\n",
    "def gen_algs(N,ids_grayed):\n",
    "    '''\n",
    "    N = length of algs in table lookup/brute force\n",
    "    ids_grayed = ids to be grayed out (sets which pieces/stickers can be moved in our algs)\n",
    "    \n",
    "    returns a dictionary of each state we solve using this \n",
    "    '''\n",
    "    t = time.time()\n",
    "    \n",
    "    subalgs = gen_subalgs(N)\n",
    "    print(f\"Subalgs generated ({round(time.time()-t,4)}s)\")\n",
    "    \n",
    "    table = gen_table(subalgs, ids_grayed)\n",
    "    print(f\"Lookup table generated ({round(time.time()-t,4)}s)\")\n",
    "    \n",
    "    algs = []\n",
    "    algs_dict = {}\n",
    "    for premove_alg in subalgs:\n",
    "        cube = gray_cube(ids_grayed)\n",
    "        cube.apply_moves(premove_alg)\n",
    "        state = get_cube_state(cube.state)\n",
    "        if state in table:\n",
    "            for lookup_alg in table[state]:\n",
    "                if premove_alg.split(\" \")[-1][0] != lookup_alg.split(\" \")[0][0]:\n",
    "                    alg = premove_alg + \" \" + lookup_alg\n",
    "                    algs.append(alg)\n",
    "                    \n",
    "                    # check if alg solves something we already have an alg for\n",
    "                    new = True\n",
    "                    for u in [\"\",\"U\",\"U2\",\"U'\"]:\n",
    "                        cube = Cube()\n",
    "                        cube.apply_moves(inverse_alg(alg))\n",
    "                        final_state = get_cube_state(cube.state)\n",
    "                    if final_state in algs_dict:\n",
    "                        if alg not in algs_dict[final_state]:\n",
    "                            algs_dict[final_state].append(alg)\n",
    "                    else:\n",
    "                        algs_dict[final_state] = [alg]\n",
    "    print(f\"Algs generated ({round(time.time()-t,4)}s)\")\n",
    "\n",
    "    return algs_dict, algs\n",
    "    \n",
    "    \n",
    "N = 8\n",
    "ids_grayed = [12,5,10,41,1,43,28,39,19,37]\n",
    "\n",
    "genned_algs, algs = gen_algs(N,ids_grayed)\n",
    "print(len(genned_algs))\n",
    "\n",
    "# NOTE! This produce many duplicates due to pre-aufs. Should be 15 (?), not 60"
   ]
  },
  {
   "cell_type": "code",
   "execution_count": 6,
   "id": "e13e0e5d",
   "metadata": {
    "scrolled": true
   },
   "outputs": [
    {
     "name": "stdout",
     "output_type": "stream",
     "text": [
      "1: R' U' R' U' R' U R U R U\n",
      "2: R' U' R' U' R U R U R U'\n",
      "3: R' U' R' U' R2 U R U R U2\n",
      "4: U R' U' R' U' R' U R U R\n",
      "5: U' R' U' R' U' R U R U R\n",
      "6: U2 R' U' R' U' R2 U R U R\n",
      "7: R U R U R U R' U' R' U' R2\n",
      "8: R' U R U' R' U' R' U' R U R2\n",
      "9: R' U R U R' U' R' U' R' U R2\n",
      "10: R2 U R U R' U' R' U' R' U R'\n",
      "11: R2 U R U R U' R' U' R' U' R'\n",
      "12: R2 U R U R2 U' R' U' R' U2 R'\n",
      "13: R U' R U R U R U' R' U' R2\n",
      "14: R2 U' R U R U R U' R' U' R\n",
      "15: R U2 R U R U R2 U' R' U' R2\n",
      "16: R' U2 R U2 R2 U2 R2 U2 R U2 R\n",
      "17: R2 U2 R U2 R2 U2 R2 U2 R U2 R2\n",
      "18: R' U R' U' R' U' R' U R U R2\n",
      "19: R2 U' R' U' R U R U R U' R\n",
      "20: R2 U' R' U R U R U R' U' R\n",
      "21: R U2 R' U R U R' U2 R U' R' U'\n",
      "22: R U' R' U' R U2 R' U R U R' U2\n",
      "23: R U R' U2 R U' R' U' R U2 R' U\n",
      "24: R2 U2 R2 U2 R2 U2 R2 U2 R2 U2 R2 U2\n",
      "25: U R U R' U2 R U' R' U' R U2 R'\n",
      "26: U2 R U' R' U' R U2 R' U R U R'\n",
      "27: U' R U2 R' U R U R' U2 R U' R'\n",
      "28: R2 U2 R' U R U R U2 R U' R' U' R\n",
      "29: R2 U' R' U' R U2 R U R U R' U2 R\n",
      "30: R' U R U R' U2 R' U' R' U' R U2 R2\n",
      "31: R' U2 R U' R' U' R' U2 R' U R U R2\n",
      "32: R' U R U R2 U2 R2 U2 R2 U R' U' R\n",
      "33: R' U' R U R2 U2 R2 U2 R2 U R' U R\n",
      "34: U' R2 U R U R' U' R' U' R' U R' U\n",
      "35: U' R U' R U R U R U' R' U' R2 U\n",
      "36: U2 R U2 R' U R U R' U2 R U' R' U\n",
      "37: U R U' R' U' R U2 R' U R U R' U\n",
      "38: U' R U' R' U' R U2 R' U R U R' U'\n",
      "39: U R' U2 R U2 R2 U2 R2 U2 R U2 R U'\n",
      "40: U' R' U2 R U2 R2 U2 R2 U2 R U2 R U\n",
      "41: U2 R' U2 R U2 R2 U2 R2 U2 R U2 R U2\n",
      "42: U' R U R' U2 R U' R' U' R U2 R' U2\n",
      "43: R2 U' R' U R U R U2 R2 U' R' U' R' U2 R2\n",
      "44: R2 U' R' U' R2 U R U' R2 U2 R2 U2 R' U2 R\n",
      "45: R' U R U' R' U' R U2 R2 U' R U R U2 R\n",
      "46: R' U R' U' R' U' R U2 R2 U2 R2 U' R U R2\n",
      "47: R' U R' U' R2 U' R U R U R2 U R' U2 R\n",
      "48: R U R2 U2 R2 U' R U R' U2 R2 U2 R U' R2\n",
      "49: R U' R' U R U R' U2 R U' R' U' R U' R'\n",
      "50: R2 U' R' U R U R' U2 R2 U R' U' R' U2 R2\n",
      "51: R' U2 R' U' R' U R2 U2 R' U R U R' U' R\n",
      "52: R2 U2 R U R U' R2 U2 R U' R' U' R U R2\n",
      "53: R' U R2 U R U2 R2 U2 R2 U2 R U' R2 U' R\n",
      "54: R2 U R2 U R U2 R2 U2 R2 U2 R U' R2 U' R2\n",
      "55: R' U' R2 U' R U2 R2 U2 R2 U2 R U R2 U R\n",
      "56: R2 U' R2 U' R U2 R2 U2 R2 U2 R U R2 U R2\n",
      "57: U' R' U R U R2 U2 R2 U2 R2 U R' U' R U\n",
      "58: U R' U' R U R2 U2 R2 U2 R2 U R' U R U'\n",
      "59: R' U2 R2 U R U R U' R' U2 R2 U2 R2 U R' U'\n",
      "60: U' R' U' R U2 R2 U2 R U2 R U R U R' U R\n",
      "12.75\n",
      "18\n"
     ]
    }
   ],
   "source": [
    "tot = 0\n",
    "startU = 0\n",
    "\n",
    "for i,k in enumerate(genned_algs.keys()):\n",
    "    print(f\"{i+1}: {genned_algs[k][0]}\")\n",
    "    tot += len(genned_algs[k][0].split(\" \"))\n",
    "    startU += genned_algs[k][0][0]==\"U\"\n",
    "print(tot/60)\n",
    "print(startU)"
   ]
  },
  {
   "cell_type": "code",
   "execution_count": null,
   "id": "307fd98c",
   "metadata": {},
   "outputs": [],
   "source": [
    "ai = alg_index_2gen(3)\n",
    "\n",
    "ai.increment()\n",
    "ai.get_alg()"
   ]
  },
  {
   "cell_type": "code",
   "execution_count": 18,
   "id": "2ebef76f",
   "metadata": {},
   "outputs": [
    {
     "data": {
      "text/plain": [
       "       5 5 5\n",
       "       5 5 5\n",
       "       5 5 5\n",
       "4 4 4  1 1 1  2 2 2  3 3 3\n",
       "4 4 4  1 1 1  2 2 2  3 3 3\n",
       "4 4 4  1 1 1  2 2 2  3 3 3\n",
       "       6 6 6\n",
       "       6 6 6\n",
       "       6 6 6"
      ]
     },
     "execution_count": 18,
     "metadata": {},
     "output_type": "execute_result"
    }
   ],
   "source": []
  },
  {
   "cell_type": "code",
   "execution_count": null,
   "id": "60c4311c",
   "metadata": {},
   "outputs": [],
   "source": []
  },
  {
   "cell_type": "code",
   "execution_count": null,
   "id": "08122fbc",
   "metadata": {},
   "outputs": [],
   "source": []
  },
  {
   "cell_type": "code",
   "execution_count": null,
   "id": "553bbebc",
   "metadata": {},
   "outputs": [],
   "source": [
    "edges = {\n",
    "    1: [21,14],\n",
    "    2: [50,16],\n",
    "    3: [5, 12],\n",
    "    4: [41,10],\n",
    "    5: [43,1 ],\n",
    "    6: [39,28],\n",
    "    7: [37,19]\n",
    "}\n",
    "\n",
    "def swap_edges(cube, e1, e2):\n",
    "    cube.state[e1[0]], cube.state[e1[1]], cube.state[e2[0]], cube.state[e2[1]] = cube.state[e2[0]], cube.state[e2[1]], cube.state[e1[0]], cube.state[e1[1]]\n",
    "    \n"
   ]
  },
  {
   "cell_type": "code",
   "execution_count": null,
   "id": "fb30300f",
   "metadata": {},
   "outputs": [],
   "source": []
  },
  {
   "cell_type": "code",
   "execution_count": null,
   "id": "a2a77059",
   "metadata": {},
   "outputs": [],
   "source": []
  },
  {
   "cell_type": "code",
   "execution_count": null,
   "id": "533748f8",
   "metadata": {},
   "outputs": [],
   "source": []
  },
  {
   "cell_type": "code",
   "execution_count": null,
   "id": "63bf0c15",
   "metadata": {},
   "outputs": [],
   "source": []
  }
 ],
 "metadata": {
  "kernelspec": {
   "display_name": "Python 3 (ipykernel)",
   "language": "python",
   "name": "python3"
  },
  "language_info": {
   "codemirror_mode": {
    "name": "ipython",
    "version": 3
   },
   "file_extension": ".py",
   "mimetype": "text/x-python",
   "name": "python",
   "nbconvert_exporter": "python",
   "pygments_lexer": "ipython3",
   "version": "3.9.13"
  }
 },
 "nbformat": 4,
 "nbformat_minor": 5
}
