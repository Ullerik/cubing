{
 "cells": [
  {
   "cell_type": "code",
   "execution_count": 6,
   "id": "886948f7",
   "metadata": {},
   "outputs": [
    {
     "name": "stdout",
     "output_type": "stream",
     "text": [
      "Support algs imported!\n"
     ]
    },
    {
     "data": {
      "image/png": "[encoded data removed]",
      "text/plain": [
       "<Figure size 400x300 with 1 Axes>"
      ]
     },
     "metadata": {},
     "output_type": "display_data"
    },
    {
     "data": {
      "image/png": "[encoded data removed]",
      "text/plain": [
       "<Figure size 400x300 with 1 Axes>"
      ]
     },
     "metadata": {},
     "output_type": "display_data"
    },
    {
     "name": "stdout",
     "output_type": "stream",
     "text": [
      "Cube initiated\n"
     ]
    },
    {
     "data": {
      "text/plain": [
       "'\\ncube\\n\\n'"
      ]
     },
     "execution_count": 6,
     "metadata": {},
     "output_type": "execute_result"
    }
   ],
   "source": [
    "import random\n",
    "import time\n",
    "import json\n",
    "%run Cube.ipynb\n",
    "\n",
    "'''\n",
    "cube\n",
    "\n",
    "'''"
   ]
  },
  {
   "cell_type": "code",
   "execution_count": 7,
   "id": "25b4c770",
   "metadata": {},
   "outputs": [],
   "source": [
    "# gen all 2-gen states for corners\n",
    "def get_corner_state(cube):\n",
    "    '''cube in mode 4'''\n",
    "    corner_state = \"\"\n",
    "    for i in [0,2,6,8,18,20,24,26]:\n",
    "        corner_state += str(cube.state[i])\n",
    "    return int(corner_state)\n",
    "\n",
    "# make cp_states\n",
    "cp_states = []\n",
    "\n",
    "cube = Cube(4)\n",
    "moveset = [\"R\",\"R'\",\"R2\",\"U\",\"U'\",\"U2\"]      \n",
    "for i in range(10000):\n",
    "    state = get_corner_state(cube)\n",
    "    if state not in cp_states:\n",
    "        cp_states.append(state)\n",
    "    move = random.choice(moveset)\n",
    "    cube.apply_moves(move)"
   ]
  },
  {
   "cell_type": "code",
   "execution_count": 34,
   "id": "67789153",
   "metadata": {},
   "outputs": [
    {
     "name": "stdout",
     "output_type": "stream",
     "text": [
      "7\n",
      "11\n",
      "13\n",
      "14\n",
      "15\n",
      "19\n",
      "21\n",
      "22\n",
      "23\n",
      "25\n",
      "26\n",
      "27\n",
      "28\n",
      "29\n",
      "30\n",
      "35\n",
      "37\n",
      "38\n",
      "39\n",
      "41\n",
      "42\n",
      "43\n",
      "44\n",
      "45\n",
      "46\n",
      "49\n",
      "50\n",
      "51\n",
      "52\n",
      "53\n",
      "54\n",
      "56\n",
      "57\n",
      "58\n",
      "60\n"
     ]
    }
   ],
   "source": [
    "def get_eo_state(cube):\n",
    "    ''' cube in mode 5 '''\n",
    "    eo_state = \"\"#\"1\"\n",
    "    for i in [28, 1, 10, 12, 16, 14]:#[1,7,10,12,14,16,19,25,28,30,32,34]:\n",
    "        eo_state += str(cube.state[i])\n",
    "    return 63-int(eo_state, base=2)\n",
    "\n",
    "\n",
    "for i in [1,2,4,8,16,32]:\n",
    "    for j in [1,2,4,8,16,32]:\n",
    "        for k in [1,2,4,8,16,32]:\n",
    "            for l in [0,1,2,4,8,16,32]:\n",
    "                if i>j>k>l:\n",
    "                    print(i+j+k+l)\n",
    "        \n",
    "\n",
    "\n"
   ]
  },
  {
   "cell_type": "code",
   "execution_count": 4,
   "id": "33afe270",
   "metadata": {},
   "outputs": [
    {
     "data": {
      "text/plain": [
       "True"
      ]
     },
     "execution_count": 4,
     "metadata": {},
     "output_type": "execute_result"
    }
   ],
   "source": [
    "# check if cube in mode 0 has 2x2x3 block solved\n",
    "@njit\n",
    "def block223_solved(cubestate):\n",
    "    ''' Assumes cube in mode 0 '''\n",
    "    if cubestate[3]==cubestate[6]==cubestate[7]==cubestate[4]==1 and cubestate[22]==cubestate[23]==cubestate[25]==cubestate[26]==3 and cubestate[30]==cubestate[31]==cubestate[32]==cubestate[33]==cubestate[34]==cubestate[35]==4 and cubestate[45]==cubestate[46]==cubestate[48]==cubestate[49]==cubestate[51]==cubestate[52]==6: \n",
    "        return True\n",
    "    return False\n",
    "\n",
    "cube = Cube()\n",
    "cube.apply_moves(\"R U\")\n",
    "block223_solved(cube.state)"
   ]
  },
  {
   "cell_type": "code",
   "execution_count": 5,
   "id": "4d1d6f18",
   "metadata": {},
   "outputs": [],
   "source": [
    "class alg_index_special:\n",
    "    def __init__(self, length):\n",
    "        '''\n",
    "        length: int\n",
    "        '''\n",
    "        self.length = length\n",
    "#         self.moves = [\"R\",\"R'\",\"R2\",\"U\",\"U'\",\"U2\",\"F\",\"F'\",\"F2\",\"f\",\"f'\",\"f2\",\"S\",\"S'\",\"S2\"] # <RUFfS>\n",
    "        self.moves = [\"R\",\"R'\",\"R2\",\"r\",\"r'\",\"r2\",\"U\",\"U'\",\"U2\",\"D\",\"D'\",\"D2\"] # <RrUD>\n",
    "        self.ids = np.array(([0,3]*int(length/2+1))[:length])\n",
    "        \n",
    "    def is_valid(self):\n",
    "        for i in range(self.length-1):\n",
    "            if self.ids[i]//3==self.ids[i+1]//3:\n",
    "                return False\n",
    "#             if self.ids[i]//3 in [2,3,4] and self.ids[i+1]//3 in [2,3,4]: # <RUFfS>\n",
    "#                 return False\n",
    "            if self.ids[i]//3 and self.ids[i+1]//3: # <RrUD>\n",
    "                return False\n",
    "        return True   \n",
    "        \n",
    "    def inc(self):\n",
    "        for i in range(len(self.ids)):\n",
    "            self.ids[i]+=1\n",
    "            self.ids[i]%=len(self.moves)\n",
    "            if self.ids[i]:\n",
    "                break\n",
    "    \n",
    "    def increment(self):\n",
    "        self.inc()\n",
    "        while not self.is_valid():\n",
    "            self.inc()\n",
    "        \n",
    "    def get_alg(self):\n",
    "        scr = self.moves[self.ids[0]]\n",
    "        for i in range(1,len(self.ids)):\n",
    "            scr += f\" {self.moves[self.ids[i]]}\"\n",
    "        return scr"
   ]
  },
  {
   "cell_type": "code",
   "execution_count": 63,
   "id": "e2ab74e6",
   "metadata": {},
   "outputs": [],
   "source": [
    "def gen_special_algs(n=3):\n",
    "    algs = []\n",
    "    t = time.time()\n",
    "    tot_algs = 0\n",
    "    for i in range(1,n+1):\n",
    "        alg = alg_index_special(i)\n",
    "        start_alg = alg.get_alg()\n",
    "        algs.append(alg.get_alg())\n",
    "        alg.increment()\n",
    "        while start_alg != alg.get_alg():\n",
    "            algs.append(alg.get_alg())\n",
    "            alg.increment()\n",
    "        print(i,\"genned in\",time.time()-t, f\"({len(algs)-tot_algs} algs)\")\n",
    "        tot_algs += len(algs)\n",
    "    return algs"
   ]
  },
  {
   "cell_type": "code",
   "execution_count": 66,
   "id": "8122c830",
   "metadata": {},
   "outputs": [
    {
     "name": "stdout",
     "output_type": "stream",
     "text": [
      "1 genned in 0.0 (12 algs)\n",
      "2 genned in 0.0010006427764892578 (54 algs)\n",
      "3 genned in 0.005516529083251953 (312 algs)\n",
      "4 genned in 0.06957411766052246 (1380 algs)\n",
      "5 genned in 0.6546902656555176 (8280 algs)\n",
      "6 genned in 7.026554822921753 (37050 algs)\n"
     ]
    }
   ],
   "source": [
    "# eo_state: list of algs that solves that eo_state\n",
    "def gen_eo_dict(n = 5):\n",
    "    eo_dict = {}\n",
    "\n",
    "    algs = gen_special_algs(n)\n",
    "\n",
    "    for alg in algs:\n",
    "        # make EO cube\n",
    "        cube = Cube(5)\n",
    "        cube.apply_moves(alg)\n",
    "        state = get_eo_state(cube)\n",
    "        if state in eo_dict.keys():\n",
    "            eo_dict[state] += [inverse_alg(alg)]\n",
    "        else:\n",
    "            eo_dict[state] = [inverse_alg(alg)]\n",
    "    return eo_dict\n",
    "\n",
    "eo_dict = gen_eo_dict(6)"
   ]
  },
  {
   "cell_type": "code",
   "execution_count": 67,
   "id": "d1e7e565",
   "metadata": {},
   "outputs": [
    {
     "data": {
      "text/plain": [
       "84"
      ]
     },
     "execution_count": 67,
     "metadata": {},
     "output_type": "execute_result"
    }
   ],
   "source": [
    "len(eo_dict)"
   ]
  },
  {
   "cell_type": "code",
   "execution_count": 17,
   "id": "47bcab92",
   "metadata": {},
   "outputs": [
    {
     "data": {
      "text/plain": [
       "'\\nGen all eo cases (make new cube, \"manually\" change eo on cube5 = cube(5)). For each case:\\n1) brute force moves up to length 3(?)\\n2) lookup to get EO solution (if applicable), save all solutions\\n3) go through all solutions again on the new cubes: cube0 = cube(0) and cube4 = cube(4) with corners swapped. Only save algs where block223_solved(cube0) and get_corner_state(cube4) are in cp_states\\n'"
      ]
     },
     "execution_count": 17,
     "metadata": {},
     "output_type": "execute_result"
    }
   ],
   "source": [
    "'''\n",
    "Gen all eo cases (make new cube, \"manually\" change eo on cube5 = cube(5)). For each case:\n",
    "1) brute force moves up to length 3(?)\n",
    "2) lookup to get EO solution (if applicable), save all solutions\n",
    "3) go through all solutions again on the new cubes: cube0 = cube(0) and cube4 = cube(4) with corners swapped. Only save algs where block223_solved(cube0) and get_corner_state(cube4) are in cp_states\n",
    "'''"
   ]
  },
  {
   "cell_type": "code",
   "execution_count": 35,
   "id": "6b9d24d2",
   "metadata": {},
   "outputs": [],
   "source": [
    "def gen_eo_case(k):\n",
    "    '''\n",
    "    k in <0,1,2,...,63>\n",
    "    returns cube with the corresponding EO\n",
    "    '''\n",
    "    edges = [[28,39], [1,43], [10,41], [12,5], [16,50], [14,21]]\n",
    "    cube = Cube(5)\n",
    "    bit = bin(k+64)[3:]\n",
    "    for i,j in enumerate(bit):\n",
    "        j = int(j)\n",
    "        if j:\n",
    "            cube.state[edges[i][0]],cube.state[edges[i][1]] = cube.state[edges[i][1]],cube.state[edges[i][0]]\n",
    "    if bit.count(\"1\")%2:\n",
    "        cube.state[19],cube.state[37] = cube.state[37],cube.state[19]\n",
    "    return cube\n",
    "            \n",
    "    \n",
    "    \n",
    "# cube = Cube(5)\n",
    "# cube.state = np.array([0]*54)\n",
    "# cube.state[14] = cube.state[21] = 1\n",
    "# cube.state[16] = cube.state[50] = 2\n",
    "# cube.state[12] = cube.state[5] = 3\n",
    "# cube.state[10] = cube.state[41] = 4\n",
    "# cube.state[1]  = cube.state[43] = 5\n",
    "# cube.state[28] = cube.state[39] = 6\n",
    "# print(cube)\n",
    "\n",
    "\n",
    "# k = 27\n",
    "# gen_eo_case(k)"
   ]
  },
  {
   "cell_type": "code",
   "execution_count": null,
   "id": "e7b8a7ff",
   "metadata": {},
   "outputs": [],
   "source": []
  },
  {
   "cell_type": "code",
   "execution_count": null,
   "id": "fe35c7c9",
   "metadata": {},
   "outputs": [],
   "source": []
  },
  {
   "cell_type": "code",
   "execution_count": 69,
   "id": "c09f8900",
   "metadata": {
    "scrolled": true
   },
   "outputs": [
    {
     "name": "stdout",
     "output_type": "stream",
     "text": [
      "1 genned in 0.0 (12 algs)\n",
      "2 genned in 0.0009975433349609375 (54 algs)\n",
      "3 genned in 0.005993843078613281 (312 algs)\n",
      "Potential algs created\n",
      "1 - 0.2535691261291504\n",
      "Potential algs created\n",
      "2 - 0.42174458503723145\n",
      "Potential algs created\n",
      "3 - 0.450275182723999\n",
      "Potential algs created\n",
      "4 - 0.6514866352081299\n",
      "Potential algs created\n",
      "5 - 0.6589977741241455\n",
      "Potential algs created\n",
      "6 - 0.688032865524292\n",
      "Potential algs created\n",
      "7 - 0.7385828495025635\n",
      "Potential algs created\n",
      "8 - 0.935673713684082\n",
      "Potential algs created\n",
      "9 - 0.9652004241943359\n",
      "Potential algs created\n",
      "10 - 1.0117497444152832\n",
      "Potential algs created\n",
      "11 - 1.0665345191955566\n",
      "Potential algs created\n",
      "12 - 1.096308708190918\n",
      "Potential algs created\n",
      "13 - 1.1268408298492432\n",
      "Potential algs created\n",
      "14 - 1.1831204891204834\n",
      "Potential algs created\n",
      "15 - 1.2242305278778076\n",
      "Potential algs created\n",
      "16 - 1.231231451034546\n",
      "Potential algs created\n",
      "17 - 1.4322261810302734\n",
      "Potential algs created\n",
      "18 - 1.6560051441192627\n",
      "Potential algs created\n",
      "19 - 2.865588665008545\n",
      "Potential algs created\n",
      "20 - 3.1067490577697754\n",
      "Potential algs created\n",
      "21 - 3.6251442432403564\n",
      "Potential algs created\n",
      "22 - 4.839668035507202\n",
      "Potential algs created\n",
      "23 - 4.892284154891968\n",
      "Potential algs created\n",
      "24 - 5.089062452316284\n",
      "Potential algs created\n",
      "25 - 5.659602165222168\n",
      "Potential algs created\n",
      "26 - 7.087973594665527\n",
      "Potential algs created\n",
      "27 - 7.144093036651611\n",
      "Potential algs created\n",
      "28 - 7.714231014251709\n",
      "Potential algs created\n",
      "29 - 7.745760202407837\n",
      "Potential algs created\n",
      "30 - 7.79953145980835\n",
      "Potential algs created\n",
      "31 - 7.807044267654419\n",
      "Potential algs created\n",
      "32 - 7.863711357116699\n",
      "Potential algs created\n",
      "33 - 7.893259048461914\n",
      "Potential algs created\n",
      "34 - 7.920334577560425\n",
      "Potential algs created\n",
      "35 - 8.089781045913696\n",
      "Potential algs created\n",
      "36 - 8.132052659988403\n",
      "Potential algs created\n",
      "37 - 8.274312973022461\n",
      "Potential algs created\n",
      "38 - 8.526773691177368\n",
      "Potential algs created\n",
      "39 - 9.004095792770386\n",
      "Potential algs created\n",
      "40 - 9.01109504699707\n",
      "Potential algs created\n",
      "41 - 9.279540538787842\n",
      "Potential algs created\n",
      "42 - 9.552876949310303\n",
      "Potential algs created\n",
      "43 - 9.821835994720459\n",
      "Potential algs created\n",
      "44 - 10.054893016815186\n",
      "Potential algs created\n",
      "45 - 10.317621231079102\n",
      "Potential algs created\n",
      "46 - 10.599284648895264\n",
      "Potential algs created\n",
      "47 - 10.610803365707397\n",
      "Potential algs created\n",
      "48 - 10.67038083076477\n",
      "Potential algs created\n",
      "49 - 12.443862199783325\n",
      "Potential algs created\n",
      "50 - 13.326900720596313\n",
      "Potential algs created\n",
      "51 - 13.543715953826904\n",
      "Potential algs created\n",
      "52 - 15.287039041519165\n",
      "Potential algs created\n",
      "53 - 15.405186891555786\n",
      "Potential algs created\n",
      "54 - 15.558327913284302\n",
      "Potential algs created\n",
      "55 - 15.566836833953857\n",
      "Potential algs created\n",
      "56 - 17.56373882293701\n",
      "Potential algs created\n",
      "57 - 17.796465158462524\n",
      "Potential algs created\n",
      "58 - 18.043253183364868\n",
      "Potential algs created\n",
      "59 - 18.050764799118042\n",
      "Potential algs created\n",
      "60 - 18.283565282821655\n",
      "Potential algs created\n",
      "61 - 18.291570901870728\n",
      "Potential algs created\n",
      "62 - 18.299082279205322\n",
      "Potential algs created\n",
      "63 - 18.307099103927612\n"
     ]
    }
   ],
   "source": [
    "algs_2gen = {}\n",
    "\n",
    "setup_algs = gen_special_algs(3)\n",
    "\n",
    "t = time.time()\n",
    "for k in range(1,64):\n",
    "    potential_algs = []\n",
    "    \n",
    "    for alg in setup_algs:\n",
    "        cube = gen_eo_case(k)\n",
    "        cube.apply_moves(alg)\n",
    "        eo_state = get_eo_state(cube)\n",
    "        if eo_state in eo_dict.keys():\n",
    "            for sol in eo_dict[eo_state]:\n",
    "                potential_algs += [alg + \" \" + sol]\n",
    "                \n",
    "    print(\"Potential algs created\")\n",
    "    working_algs = []\n",
    "    for alg in potential_algs:\n",
    "        cube0 = Cube(0)\n",
    "        cube4 = Cube(4)\n",
    "        cube4.apply_algs(\"pp_corners\")\n",
    "        \n",
    "        cube0.apply_moves(alg)\n",
    "        cube4.apply_moves(alg)\n",
    "        if block223_solved(cube0.state) and get_corner_state(cube4) in cp_states:\n",
    "            working_algs += [alg]\n",
    "    \n",
    "    algs_2gen[k] = working_algs\n",
    "    print(f\"{k} - {time.time()-t}\")"
   ]
  },
  {
   "cell_type": "code",
   "execution_count": 71,
   "id": "81218a27",
   "metadata": {
    "scrolled": true
   },
   "outputs": [
    {
     "name": "stdout",
     "output_type": "stream",
     "text": [
      "35 100011 D R r' R' U' R' r R D'\n",
      "54 110110 D' R r R' U R' r' R D\n"
     ]
    }
   ],
   "source": [
    "for k in range(1,64):\n",
    "    if algs_2gen_cp_solved[k]:\n",
    "        print(k,bin(k)[2:],algs_2gen_cp_solved[k][0])"
   ]
  },
  {
   "cell_type": "code",
   "execution_count": 135,
   "id": "6d226e73",
   "metadata": {},
   "outputs": [],
   "source": [
    "import json\n",
    "with open(\"EO.json\", \"w\") as outfile:\n",
    "    json.dump(algs_2gen_cp_solved, outfile, indent=4)"
   ]
  },
  {
   "cell_type": "code",
   "execution_count": 98,
   "id": "ad2d34b1",
   "metadata": {},
   "outputs": [],
   "source": [
    "# new_dict = {}\n",
    "# for k in algs_2gen.keys():\n",
    "#     new_dict[k] = algs_2gen[k][:10]"
   ]
  },
  {
   "cell_type": "code",
   "execution_count": 99,
   "id": "c36e389a",
   "metadata": {},
   "outputs": [],
   "source": [
    "def plot_eo_case(cube):\n",
    "    ''' cube in mode 5 '''\n",
    "    plt_cube = Cube()\n",
    "    plt_cube.state = np.array([0]*54)\n",
    "    edges = [[28,1,10,12,16,14,19,7,25,30,34,48],[39,43,41,5,50,21,37,46,52,23,48,3]]\n",
    "    \n",
    "    for i,j in enumerate(edges[1]):\n",
    "        if cube.state[j]:\n",
    "            plt_cube.state[j] = 5\n",
    "            plt_cube.state[edges[0][i]] = 5\n",
    "    \n",
    "    plt_cube.plot()\n",
    "    \n",
    "# for k in range(64):\n",
    "#     print(k)\n",
    "#     cube = gen_eo_case(k)\n",
    "#     plot_eo_case(cube)"
   ]
  },
  {
   "cell_type": "code",
   "execution_count": 100,
   "id": "3f6d4ea7",
   "metadata": {},
   "outputs": [],
   "source": [
    "# with open(\"CPEO.json\", \"r\") as outfile:\n",
    "#     algs_2gen = json.load(outfile)\n",
    "    \n",
    "# algs_2gen"
   ]
  },
  {
   "cell_type": "code",
   "execution_count": 102,
   "id": "3c55142e",
   "metadata": {
    "scrolled": true
   },
   "outputs": [],
   "source": [
    "# for k in algs_2gen.keys():\n",
    "#     for i in range(len(algs_2gen[k])):\n",
    "#         algs_2gen[k][i] = cancel_alg(algs_2gen[k][i])\n",
    "\n",
    "\n",
    "# for k in algs_2gen.keys():\n",
    "#     new_algs = []\n",
    "#     for i in range(len(algs_2gen[k])):\n",
    "#         if not (algs_2gen[k][i].split(\" \")[-1][0] == \"R\" or algs_2gen[k][i].split(\" \")[-1][0] == \"U\") and algs_2gen[k][i] not in new_algs:\n",
    "#             new_algs.append(algs_2gen[k][i])\n",
    "#     algs_2gen[k] = new_algs\n",
    "            \n",
    "# algs_2gen"
   ]
  },
  {
   "cell_type": "code",
   "execution_count": 146,
   "id": "20fe713f",
   "metadata": {},
   "outputs": [],
   "source": [
    "# algs_2gen_cp_solved_1 = {}\n",
    "\n",
    "# for k in algs_2gen.keys():\n",
    "#     algs_2gen_cp_solved_1[int(k)] = algs_2gen_cp_solved[int(k)][1]\n",
    "        \n",
    "        \n"
   ]
  },
  {
   "cell_type": "code",
   "execution_count": 89,
   "id": "f8f482ca",
   "metadata": {},
   "outputs": [],
   "source": [
    "# algs_2gen[\"63\"]"
   ]
  },
  {
   "cell_type": "code",
   "execution_count": null,
   "id": "dbce9d66",
   "metadata": {},
   "outputs": [],
   "source": []
  },
  {
   "cell_type": "code",
   "execution_count": 109,
   "id": "15fc85ee",
   "metadata": {},
   "outputs": [],
   "source": []
  },
  {
   "cell_type": "code",
   "execution_count": 147,
   "id": "8558a648",
   "metadata": {},
   "outputs": [],
   "source": [
    "# with open(\"EO_1_alg.json\", \"w\") as outfile:\n",
    "#     json.dump(algs_2gen_cp_solved_1, outfile, indent=4)"
   ]
  },
  {
   "cell_type": "code",
   "execution_count": 148,
   "id": "f62a1f8f",
   "metadata": {},
   "outputs": [],
   "source": []
  },
  {
   "cell_type": "code",
   "execution_count": null,
   "id": "20614e63",
   "metadata": {},
   "outputs": [],
   "source": []
  },
  {
   "cell_type": "code",
   "execution_count": null,
   "id": "db409bf7",
   "metadata": {},
   "outputs": [],
   "source": []
  }
 ],
 "metadata": {
  "kernelspec": {
   "display_name": "Python 3 (ipykernel)",
   "language": "python",
   "name": "python3"
  },
  "language_info": {
   "codemirror_mode": {
    "name": "ipython",
    "version": 3
   },
   "file_extension": ".py",
   "mimetype": "text/x-python",
   "name": "python",
   "nbconvert_exporter": "python",
   "pygments_lexer": "ipython3",
   "version": "3.9.13"
  }
 },
 "nbformat": 4,
 "nbformat_minor": 5
}
