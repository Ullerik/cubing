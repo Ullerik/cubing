{
 "cells": [
  {
   "cell_type": "code",
   "execution_count": 1,
   "id": "56572312",
   "metadata": {},
   "outputs": [
    {
     "name": "stdout",
     "output_type": "stream",
     "text": [
      "Support algs imported!\n",
      "Cube initiated\n"
     ]
    }
   ],
   "source": [
    "%run ../cube/Cube.ipynb"
   ]
  },
  {
   "cell_type": "code",
   "execution_count": 2,
   "id": "563e8a3b",
   "metadata": {},
   "outputs": [],
   "source": [
    "from PIL import Image"
   ]
  },
  {
   "cell_type": "code",
   "execution_count": 3,
   "id": "7aa9fc79",
   "metadata": {},
   "outputs": [],
   "source": [
    "def create_canvas():\n",
    "    # Create a black canvas with a size of 32x16\n",
    "    canvas = Image.new(\"RGBA\", (32, 16), color=(0, 0, 0, 255))\n",
    "\n",
    "    # Create a transparent 8x8 area in the top right\n",
    "    transparent_region = Image.new(\"RGBA\", (8, 8), color=(0, 0, 0, 0))\n",
    "    canvas.paste(transparent_region, (24, 0))\n",
    "\n",
    "    # Create a transparent 8x8 area in the top left\n",
    "    canvas.paste(transparent_region, (0, 0))\n",
    "\n",
    "    return canvas\n"
   ]
  },
  {
   "cell_type": "code",
   "execution_count": 4,
   "id": "5dd2a22b",
   "metadata": {},
   "outputs": [],
   "source": [
    "def paste_tile(image, x1, y1, x2, y2, tiles_path = \"tiles.png\"):\n",
    "    # Open the tiles image\n",
    "    tiles_image = Image.open(tiles_path)\n",
    "\n",
    "    # Extract a 2x2 tile from the tiles image\n",
    "    tile = tiles_image.crop((x1, y1, x1+2, y1+2))\n",
    "\n",
    "    # Paste the tile onto the image object at coordinates [x2:x2+2, y2:y2+2]\n",
    "    image.paste(tile, (x2, y2, x2+2, y2+2))\n",
    "\n",
    "    # Return the modified image\n",
    "    return image"
   ]
  },
  {
   "cell_type": "code",
   "execution_count": 5,
   "id": "05c5a78c",
   "metadata": {},
   "outputs": [],
   "source": [
    "index_to_position = {\n",
    "    # index: [x,y]\n",
    "    0: [8,8],\n",
    "    1: [11,8],\n",
    "    2: [14,8],\n",
    "    3: [8,11],\n",
    "    4: [11,11],\n",
    "    5: [14,11],\n",
    "    6: [8,14],\n",
    "    7: [11,14],\n",
    "    8: [14,14],\n",
    "    \n",
    "    9: [16,8],\n",
    "    10: [19,8],\n",
    "    11: [22,8],\n",
    "    12: [16,11],\n",
    "    13: [19,11],\n",
    "    14: [22,11],\n",
    "    15: [16,14],\n",
    "    16: [19,14],\n",
    "    17: [22,14],\n",
    "    \n",
    "    18: [24,8],\n",
    "    19: [27,8],\n",
    "    20: [30,8],\n",
    "    21: [24,11],\n",
    "    22: [27,11],\n",
    "    23: [30,11],\n",
    "    24: [24,14],\n",
    "    25: [27,14],\n",
    "    26: [30,14],\n",
    "    \n",
    "    27: [0,8],\n",
    "    28: [3,8],\n",
    "    29: [6,8],\n",
    "    30: [0,11],\n",
    "    31: [3,11],\n",
    "    32: [6,11],\n",
    "    33: [0,14],\n",
    "    34: [3,14],\n",
    "    35: [6,14],\n",
    "    \n",
    "    36: [8,0],\n",
    "    37: [11,0],\n",
    "    38: [14,0],\n",
    "    39: [8,3],\n",
    "    40: [11,3],\n",
    "    41: [14,3],\n",
    "    42: [8,6],\n",
    "    43: [11,6],\n",
    "    44: [14,6],\n",
    "    \n",
    "    45: [16,6],\n",
    "    46: [19,6],\n",
    "    47: [22,6],\n",
    "    48: [16,3],\n",
    "    49: [19,3],\n",
    "    50: [22,3],\n",
    "    51: [16,0],\n",
    "    52: [19,0],\n",
    "    53: [22,0],\n",
    "}"
   ]
  },
  {
   "cell_type": "code",
   "execution_count": 6,
   "id": "6cd9d682",
   "metadata": {},
   "outputs": [],
   "source": [
    "index_to_type = {\n",
    "    # index: index of color\n",
    "    0: 1,\n",
    "    1: 2,\n",
    "    2: 3,\n",
    "    3: 1,\n",
    "    4: 2,\n",
    "    5: 3,\n",
    "    6: 1,\n",
    "    7: 2,\n",
    "    8: 3,\n",
    "    \n",
    "    9: 1,\n",
    "    10: 1,\n",
    "    11: 1,\n",
    "    12: 1,\n",
    "    13: 1,\n",
    "    14: 1,\n",
    "    15: 1,\n",
    "    16: 1,\n",
    "    17: 1,\n",
    "    \n",
    "    18: 1,\n",
    "    19: 2,\n",
    "    20: 3,\n",
    "    21: 1,\n",
    "    22: 2,\n",
    "    23: 3,\n",
    "    24: 1,\n",
    "    25: 2,\n",
    "    26: 3,\n",
    "    \n",
    "    27: 3,\n",
    "    28: 3,\n",
    "    29: 3,\n",
    "    30: 3,\n",
    "    31: 3,\n",
    "    32: 3,\n",
    "    33: 3,\n",
    "    34: 3,\n",
    "    35: 3,\n",
    "    \n",
    "    36: 1,\n",
    "    37: 1,\n",
    "    38: 3,\n",
    "    39: 4,\n",
    "    40: 4,\n",
    "    41: 5,\n",
    "    42: 4,\n",
    "    43: 4,\n",
    "    44: 5,\n",
    "    \n",
    "    45: 6,\n",
    "    46: 6,\n",
    "    47: 6,\n",
    "    48: 6,\n",
    "    49: 6,\n",
    "    50: 6,\n",
    "    51: 6,\n",
    "    52: 6,\n",
    "    53: 6,\n",
    "}"
   ]
  },
  {
   "cell_type": "code",
   "execution_count": 7,
   "id": "d56e9d18",
   "metadata": {},
   "outputs": [],
   "source": [
    "def color_and_type_to_coords(color,square_type):\n",
    "    # color, square_type are ints between 1 and 6\n",
    "    y = 2*(color-1)\n",
    "    x = 2*(square_type-1)\n",
    "    return x,y"
   ]
  },
  {
   "cell_type": "code",
   "execution_count": 8,
   "id": "f852bb57",
   "metadata": {},
   "outputs": [],
   "source": [
    "def cube_to_minecraft(cube):\n",
    "    # takes a cube produces a 32x16 image which fits as a minecraft head skin\n",
    "    \n",
    "    canvas = create_canvas()\n",
    "    \n",
    "    for i in range(54):\n",
    "        \n",
    "        color = cube.state[i]\n",
    "        square_type = index_to_type[i]\n",
    "        \n",
    "        x1, y1 = color_and_type_to_coords(color,square_type)\n",
    "        x2, y2 = index_to_position[i][0], index_to_position[i][1]\n",
    "        \n",
    "        paste_tile(canvas, x1, y1, x2, y2)\n",
    "        \n",
    "    return canvas"
   ]
  },
  {
   "cell_type": "code",
   "execution_count": 9,
   "id": "37b02906",
   "metadata": {},
   "outputs": [],
   "source": [
    "def paste_image_onto_background(background_path, foreground_image, output_path):\n",
    "    # Open the background image\n",
    "    background_image = Image.open(background_path)\n",
    "\n",
    "    # Paste the foreground image onto the background at coordinates (x, y)\n",
    "    background_image.paste(foreground_image, (0, 0), foreground_image)\n",
    "\n",
    "    # Save the result to a new file\n",
    "    background_image.save(output_path)"
   ]
  },
  {
   "cell_type": "code",
   "execution_count": 18,
   "id": "7c178bc8",
   "metadata": {},
   "outputs": [
    {
     "data": {
      "image/png": "[encoded data removed]",
      "text/plain": [
       "<Figure size 400x300 with 1 Axes>"
      ]
     },
     "metadata": {},
     "output_type": "display_data"
    }
   ],
   "source": [
    "cube = Cube()\n",
    "cube.apply_moves(\"U S B B\")\n",
    "\n",
    "cube.plot()\n",
    "\n",
    "background_path = \"usbb0.png\"\n",
    "foreground_image = cube_to_minecraft(cube)\n",
    "output_path = fr\"skin_solve\\usbb_USBB.png\"\n",
    "\n",
    "# Call the function to paste the image onto the background\n",
    "paste_image_onto_background(background_path, foreground_image, output_path=output_path)\n",
    "\n",
    "# solution = \"R' D L D2 y' R' F R U r' U' R U M' U' R U R' U F' U' F U2 L' U L U' L' U' L U\"\n",
    "\n",
    "# for i,move in enumerate(solution.split(\" \")):\n",
    "#     cube.apply_moves(move)\n",
    "#     background_path = \"usbb0.png\"\n",
    "#     foreground_image = cube_to_minecraft(cube)\n",
    "#     output_path = fr\"skin_solve\\usbb{i+1}.png\"\n",
    "\n",
    "#     # Call the function to paste the image onto the background\n",
    "#     paste_image_onto_background(background_path, foreground_image, output_path=output_path)\n"
   ]
  },
  {
   "cell_type": "code",
   "execution_count": 32,
   "id": "1d5130c1",
   "metadata": {},
   "outputs": [],
   "source": []
  },
  {
   "cell_type": "code",
   "execution_count": null,
   "id": "a8e381be",
   "metadata": {},
   "outputs": [],
   "source": []
  },
  {
   "cell_type": "code",
   "execution_count": null,
   "id": "d5bffd5a",
   "metadata": {},
   "outputs": [],
   "source": []
  },
  {
   "cell_type": "code",
   "execution_count": null,
   "id": "a9eaeba9",
   "metadata": {},
   "outputs": [],
   "source": []
  }
 ],
 "metadata": {
  "kernelspec": {
   "display_name": "Python 3 (ipykernel)",
   "language": "python",
   "name": "python3"
  },
  "language_info": {
   "codemirror_mode": {
    "name": "ipython",
    "version": 3
   },
   "file_extension": ".py",
   "mimetype": "text/x-python",
   "name": "python",
   "nbconvert_exporter": "python",
   "pygments_lexer": "ipython3",
   "version": "3.9.13"
  }
 },
 "nbformat": 4,
 "nbformat_minor": 5
}
