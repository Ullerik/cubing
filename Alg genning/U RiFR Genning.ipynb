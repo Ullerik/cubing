{
 "cells": [
  {
   "cell_type": "code",
   "execution_count": 1,
   "id": "ddcdcde6",
   "metadata": {},
   "outputs": [
    {
     "name": "stdout",
     "output_type": "stream",
     "text": [
      "Support algs imported!\n",
      "Cube initiated\n"
     ]
    }
   ],
   "source": [
    "%run ../cube/Cube.ipynb"
   ]
  },
  {
   "cell_type": "code",
   "execution_count": null,
   "id": "d83beb14",
   "metadata": {},
   "outputs": [],
   "source": [
    "# we want to gen algs using U and R' F* R, where F* is any F move\n",
    "# to do this, we generate a bunch of algs of such form, then generate the cases and save them in a table with the inverse alg\n",
    "# from any given case, we can loop through the algs and see if we can find a match in the table, if so we have a solution"
   ]
  },
  {
   "cell_type": "code",
   "execution_count": 2,
   "id": "114158c6",
   "metadata": {},
   "outputs": [
    {
     "data": {
      "text/plain": [
       "array([1, 3, 0, 3])"
      ]
     },
     "execution_count": 2,
     "metadata": {},
     "output_type": "execute_result"
    }
   ],
   "source": [
    "# generate algs\n",
    "\n",
    "@njit\n",
    "def _inc_special(ids):\n",
    "    for i in range(len(ids)):\n",
    "        ids[i]+=1\n",
    "        ids[i]%=6 # change based on number of moves\n",
    "        if ids[i]:\n",
    "            break\n",
    "    return ids\n",
    "\n",
    "@njit\n",
    "def _is_valid_special(length,ids):\n",
    "    for i in range(length-1):\n",
    "        if ids[i]//3==ids[i+1]//3:\n",
    "            return False\n",
    "    return True      \n",
    "\n",
    "@njit\n",
    "def _increment_special(length,ids):\n",
    "    ids = _inc_special(ids)\n",
    "    while not _is_valid_special(length,ids):\n",
    "        ids = _inc_special(ids)\n",
    "    return ids\n",
    "\n",
    "length = 4\n",
    "ids = np.array([0,3,0,3])\n",
    "_increment_special(length,ids)\n"
   ]
  },
  {
   "cell_type": "code",
   "execution_count": 5,
   "id": "858323b1",
   "metadata": {},
   "outputs": [
    {
     "data": {
      "text/plain": [
       "\"U R' F R U R' F R\""
      ]
     },
     "execution_count": 5,
     "metadata": {},
     "output_type": "execute_result"
    }
   ],
   "source": [
    "class alg_index_special:\n",
    "    def __init__(self, length):\n",
    "        '''\n",
    "        length: int\n",
    "        '''\n",
    "        self.length = length\n",
    "        self.moves = [\"U\",\"U'\",\"U2\",\"R' F R\",\"R' F' R\",\"R' F2 R\"] # change to whatever you want to gen # ,\"F\",\"F'\",\"F2\"\n",
    "        self.ids = np.array(([0,3]*int(length/2+1))[:length]) # change based on type of algs you gen\n",
    "    \n",
    "    def is_valid(self):\n",
    "        return _is_valid_special(self.length,self.ids)\n",
    "    \n",
    "    def inc(self):\n",
    "        ids = _inc_special(ids)\n",
    "    \n",
    "    def increment(self):\n",
    "        self.ids = _increment_special(self.length,self.ids)\n",
    "    \n",
    "    def get_alg(self):\n",
    "        scr = self.moves[self.ids[0]]\n",
    "        for i in range(1,len(self.ids)):\n",
    "            scr += f\" {self.moves[self.ids[i]]}\"\n",
    "        return scr\n",
    "    \n",
    "ai = alg_index_special(4)\n",
    "ai.get_alg()"
   ]
  },
  {
   "cell_type": "code",
   "execution_count": 145,
   "id": "4037ccef",
   "metadata": {},
   "outputs": [
    {
     "name": "stdout",
     "output_type": "stream",
     "text": [
      "Algs of length 1 genned after 0.0s\n",
      "Algs of length 2 genned after 0.0s\n",
      "Algs of length 3 genned after 0.001s\n",
      "Algs of length 4 genned after 0.001s\n",
      "Algs of length 5 genned after 0.003s\n",
      "Algs of length 6 genned after 0.01s\n"
     ]
    },
    {
     "data": {
      "text/plain": [
       "2184"
      ]
     },
     "execution_count": 145,
     "metadata": {},
     "output_type": "execute_result"
    }
   ],
   "source": [
    "def gen_algs(n, print_time = True):\n",
    "\n",
    "    algs = []\n",
    "\n",
    "    t = time.time()\n",
    "\n",
    "    for i in range(n):\n",
    "        ai = alg_index_special(i+1)\n",
    "        start_alg = ai.get_alg()\n",
    "\n",
    "        algs.append(start_alg)\n",
    "        ai.increment()\n",
    "\n",
    "        while start_alg != ai.get_alg():\n",
    "            algs.append(ai.get_alg())\n",
    "            ai.increment()\n",
    "\n",
    "        if print_time:\n",
    "            print(f\"Algs of length {i+1} genned after {round(time.time()-t,3)}s\")\n",
    "    \n",
    "    return algs\n",
    "\n",
    "algs = gen_algs(6)\n",
    "len(algs)"
   ]
  },
  {
   "cell_type": "code",
   "execution_count": 144,
   "id": "d1705fa7",
   "metadata": {},
   "outputs": [
    {
     "data": {
      "text/plain": [
       "78504"
      ]
     },
     "execution_count": 144,
     "metadata": {},
     "output_type": "execute_result"
    }
   ],
   "source": [
    "def gen_table(algs):\n",
    "    '''\n",
    "    Gen dictionary with keys being cases reached by inverting each alg, with dict[case] = alg\n",
    "    '''\n",
    "    table = {}\n",
    "\n",
    "    for alg in algs:\n",
    "        inv = inverse_alg(alg)\n",
    "        # skip algs ending with U* as the first move is equivalent to a AUF\n",
    "        if alg[0]==\"U\":\n",
    "            continue\n",
    "\n",
    "        cube = Cube() # only F2L\n",
    "        cube.apply_moves(alg)\n",
    "        case = id_from_state(cube.state)\n",
    "\n",
    "        if case not in table.keys():\n",
    "            table[case] = [inv]\n",
    "        else:\n",
    "            table[case] += [inv]\n",
    "\n",
    "    return table\n",
    "\n",
    "table = gen_table(algs)\n",
    "len(table)"
   ]
  },
  {
   "cell_type": "code",
   "execution_count": 78,
   "id": "c1491b4d",
   "metadata": {},
   "outputs": [],
   "source": [
    "def gen_random_alg_from_move_list(length, moves = [\"U\",\"U'\",\"U2\",\"R' F R\",\"R' F' R\",\"R' F2 R\"]):\n",
    "    return cancel_alg(\" \".join(np.random.choice(moves,length)))"
   ]
  },
  {
   "cell_type": "code",
   "execution_count": 253,
   "id": "a9fc1351",
   "metadata": {},
   "outputs": [
    {
     "name": "stdout",
     "output_type": "stream",
     "text": [
      "U2 R' F R U2 R' F' R U' R' F' R U' R' F R U' R' F2 R U2 R' F2 R U2 R' F' R (28)\n"
     ]
    }
   ],
   "source": [
    "cube = Cube()\n",
    "\n",
    "# cube.apply_moves(\"R2 B2 R2 D U L2 R2 U R2 F2 L F U L' U' F' D' U F'\")\n",
    "# cube.apply_moves(\"F2 D2 F D2 L U' L U2 B' U' B L F' L'\")\n",
    "# cube.apply_moves(\"U2 L' U L\")\n",
    "sol_lengths = []\n",
    "cube.apply_moves(\"R' U L' U2 R U' L R' U L' U2 R U' L\")\n",
    "cube.apply_moves(\"F R U R' U' F' L' U2 L\")\n",
    "\n",
    "# cube.apply_moves(\"M' U2 M\")\n",
    "\n",
    "# new_alg = gen_random_alg_from_move_list(500)\n",
    "# print(\"scramble:\",new_alg)\n",
    "# cube.apply_moves(new_alg)\n",
    "# cube.plot()\n",
    "\n",
    "sol = \"\"\n",
    "for alg in algs:\n",
    "    cube.apply_moves(alg)\n",
    "    case = id_from_state(cube.state)\n",
    "    if case in table.keys():\n",
    "        sol = cancel_alg(alg + \" \" + table[case][0])\n",
    "        sol_len = len(sol.split(\" \"))\n",
    "        print(f\"{sol} ({sol_len})\")\n",
    "        break\n",
    "    cube.apply_moves(inverse_alg(alg))"
   ]
  },
  {
   "cell_type": "code",
   "execution_count": null,
   "id": "5d3ed2cc",
   "metadata": {},
   "outputs": [],
   "source": [
    "# alg lengths (over 10 000 scrambles): 27.5772"
   ]
  },
  {
   "cell_type": "code",
   "execution_count": null,
   "id": "cc8534b8",
   "metadata": {},
   "outputs": [],
   "source": []
  },
  {
   "cell_type": "code",
   "execution_count": null,
   "id": "f2a5b688",
   "metadata": {},
   "outputs": [],
   "source": []
  }
 ],
 "metadata": {
  "kernelspec": {
   "display_name": "Python 3 (ipykernel)",
   "language": "python",
   "name": "python3"
  },
  "language_info": {
   "codemirror_mode": {
    "name": "ipython",
    "version": 3
   },
   "file_extension": ".py",
   "mimetype": "text/x-python",
   "name": "python",
   "nbconvert_exporter": "python",
   "pygments_lexer": "ipython3",
   "version": "3.9.13"
  }
 },
 "nbformat": 4,
 "nbformat_minor": 5
}
