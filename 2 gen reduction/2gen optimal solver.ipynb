{
 "cells": [
  {
   "cell_type": "code",
   "execution_count": 74,
   "id": "9a492157",
   "metadata": {},
   "outputs": [
    {
     "name": "stdout",
     "output_type": "stream",
     "text": [
      "Support algs imported!\n",
      "Cube initiated\n"
     ]
    }
   ],
   "source": [
    "import random\n",
    "import time\n",
    "import json\n",
    "%run Cube.ipynb"
   ]
  },
  {
   "cell_type": "code",
   "execution_count": null,
   "id": "01d22252",
   "metadata": {},
   "outputs": [],
   "source": [
    "'''\n",
    "Idea:\n",
    "Gen table lookup for 12 (start with 10?) moves\n",
    "\n",
    "Solver: brute force algs of increasing length, check table lookup every time\n",
    "\n",
    "'''"
   ]
  },
  {
   "cell_type": "code",
   "execution_count": 310,
   "id": "66438c96",
   "metadata": {},
   "outputs": [],
   "source": [
    "@njit\n",
    "def _is_valid_2gen(length,ids):\n",
    "    for i in range(length-1):\n",
    "        if ids[i]//3==ids[i+1]//3:\n",
    "            return False\n",
    "    return True \n",
    "\n",
    "@njit\n",
    "def _inc_2gen(ids,nr_moves):\n",
    "    for i in range(len(ids)):\n",
    "        ids[i]+=1\n",
    "        ids[i]%=nr_moves\n",
    "        if ids[i]:\n",
    "            break\n",
    "    return ids\n",
    "\n",
    "@njit\n",
    "def _increment_2gen(ids,nr_moves,length):\n",
    "    ids = _inc_2gen(ids,nr_moves)\n",
    "    while not _is_valid_2gen(length,ids):\n",
    "        ids = _inc_2gen(ids,nr_moves)\n",
    "    return ids  "
   ]
  },
  {
   "cell_type": "code",
   "execution_count": 314,
   "id": "183c7003",
   "metadata": {
    "scrolled": true
   },
   "outputs": [
    {
     "data": {
      "text/plain": [
       "0.024547100067138672"
      ]
     },
     "execution_count": 314,
     "metadata": {},
     "output_type": "execute_result"
    }
   ],
   "source": [
    "class alg_index_2gen:\n",
    "    def __init__(self, length, moves = [\"R\",\"R'\",\"R2\",\"U\",\"U'\",\"U2\"]):\n",
    "        '''\n",
    "        length: int\n",
    "        '''\n",
    "        self.length = length\n",
    "        self.moves = moves\n",
    "        self.ids = np.array(([0,3]*int(length/2+1))[:length])\n",
    "        \n",
    "    def is_valid(self):\n",
    "        return _is_valid_2gen(self.length,self.ids) \n",
    "        \n",
    "    def inc(self):\n",
    "        self.ids = _inc_2gen(ids,len(self.moves))\n",
    "    \n",
    "    def increment(self):\n",
    "        _increment_2gen(self.ids,len(self.moves),self.length)\n",
    "\n",
    "    def get_alg(self):\n",
    "        scr = self.moves[self.ids[0]]\n",
    "        for i in range(1,len(self.ids)):\n",
    "            scr += f\" {self.moves[self.ids[i]]}\"\n",
    "        return scr\n",
    "\n",
    "tst = alg_index_2gen(10)\n",
    "t = time.time()\n",
    "for i in range(10000):\n",
    "    tst.increment()\n",
    "time.time()-t"
   ]
  },
  {
   "cell_type": "code",
   "execution_count": 69,
   "id": "efb88b71",
   "metadata": {},
   "outputs": [],
   "source": [
    "def cube_state_2gen(cube):\n",
    "    ids = [0,1,2,5,8,47,50,53,24,21,18,19,20,27,28,29,9,10,11,12,16,17,37,39]\n",
    "    str_repr = \"\"\n",
    "    for i in ids:\n",
    "        str_repr += str(cube.state[i])\n",
    "    return str_repr"
   ]
  },
  {
   "cell_type": "code",
   "execution_count": 294,
   "id": "4ff62d47",
   "metadata": {},
   "outputs": [
    {
     "name": "stdout",
     "output_type": "stream",
     "text": [
      "Algs of length 13 genned in 23628.291438102722\n"
     ]
    }
   ],
   "source": [
    "# # make table\n",
    "# table2gen = {}\n",
    "# ''' id: alg '''\n",
    "\n",
    "# t = time.time()\n",
    "# N = 13\n",
    "# for n in range(1, N+1):\n",
    "#     alg = alg_index_2gen(n)\n",
    "#     start_alg = alg.get_alg()\n",
    "    \n",
    "#     cube = Cube()\n",
    "#     cube.apply_moves(alg.get_alg())\n",
    "#     state = cube_state_2gen(cube)\n",
    "#     if state not in table2gen.keys():\n",
    "#         table2gen[state] = inverse_alg(alg.get_alg())\n",
    "#     alg.increment()\n",
    "    \n",
    "#     while alg.get_alg() != start_alg:\n",
    "#         cube = Cube()\n",
    "#         cube.apply_moves(alg.get_alg())\n",
    "#         state = cube_state_2gen(cube)\n",
    "#         if state not in table2gen.keys():\n",
    "#             table2gen[state] = inverse_alg(alg.get_alg())\n",
    "#         alg.increment()\n",
    "#     print(f\"Algs of length {n} genned in {time.time()-t}\")"
   ]
  },
  {
   "cell_type": "code",
   "execution_count": 295,
   "id": "22e19574",
   "metadata": {},
   "outputs": [
    {
     "data": {
      "text/plain": [
       "2889650"
      ]
     },
     "execution_count": 295,
     "metadata": {},
     "output_type": "execute_result"
    }
   ],
   "source": [
    "# len(table2gen)"
   ]
  },
  {
   "cell_type": "code",
   "execution_count": 305,
   "id": "188453bb",
   "metadata": {},
   "outputs": [],
   "source": [
    "# import json\n",
    "# with open(\"_.json\", \"w\") as outfile:\n",
    "#     json.dump(table2gen, outfile, indent=4)\n",
    "\n",
    "with open(\"2gen_13_moves.json\", \"r\") as outfile:\n",
    "    table2gen = json.load(outfile)"
   ]
  },
  {
   "cell_type": "code",
   "execution_count": null,
   "id": "71a1013c",
   "metadata": {},
   "outputs": [],
   "source": []
  },
  {
   "cell_type": "code",
   "execution_count": null,
   "id": "65157cea",
   "metadata": {},
   "outputs": [],
   "source": [
    "moveset = [\"R\",\"R'\",\"R2\",\"U\",\"U'\",\"U2\"]"
   ]
  },
  {
   "cell_type": "code",
   "execution_count": 363,
   "id": "adefff22",
   "metadata": {
    "scrolled": true
   },
   "outputs": [
    {
     "name": "stdout",
     "output_type": "stream",
     "text": [
      "15.831\n"
     ]
    }
   ],
   "source": [
    "def lookup_2gen(cube):\n",
    "    '''\n",
    "    assumes table2gen exist with lookup of some number of moves\n",
    "    '''\n",
    "    state = cube_state_2gen(cube)\n",
    "    if state in table2gen.keys():\n",
    "        return table2gen[state]\n",
    "    return False\n",
    "\n",
    "def solver_2gen(cube):\n",
    "    lookup = lookup_2gen(cube)\n",
    "    if lookup:\n",
    "        cube.apply_moves(lookup)\n",
    "        return lookup\n",
    "    n = 1\n",
    "    while True:\n",
    "        alg_i = alg_index_2gen(n)\n",
    "        \n",
    "        for i in range(6*3**n):\n",
    "            alg = alg_i.get_alg()\n",
    "            cube.apply_moves(alg)\n",
    "            \n",
    "            lookup = lookup_2gen(cube) \n",
    "            if lookup:\n",
    "                cube.apply_moves(lookup)\n",
    "                return alg + \" \" + lookup\n",
    "            inv = inverse_alg(alg)\n",
    "            cube.apply_moves(inv)\n",
    "            alg_i.increment()\n",
    "        n+=1\n",
    "\n",
    "# cube = Cube()\n",
    "# cube.apply_moves(\"R U R'\")\n",
    "\n",
    "# scrambles = []\n",
    "# solutions = []\n",
    "# lengths = []\n",
    "# t = time.time()\n",
    "\n",
    "# N = 1000\n",
    "# for i in range(N):\n",
    "#     # scramble\n",
    "#     cube = Cube()\n",
    "#     scr = \"\"\n",
    "#     for k in range(200):\n",
    "#         scr += random.choice(moveset)+\" \"\n",
    "#     scr = scr.strip(\" \")\n",
    "#     scr = cancel_alg(scr)\n",
    "#     scrambles.append(scr)\n",
    "#     cube.apply_moves(scr)\n",
    "\n",
    "#     sol = solver_2gen(cube)\n",
    "#     solutions.append(sol)\n",
    "#     lengths.append(count_moves(sol))\n",
    "    \n",
    "# #     print(f\"{i+1} done, {lengths[-1]} moves. Time since start: {time.time()-t}\")\n",
    "\n",
    "# print(sum(lengths)/N)"
   ]
  },
  {
   "cell_type": "code",
   "execution_count": null,
   "id": "92aad265",
   "metadata": {},
   "outputs": [],
   "source": []
  },
  {
   "cell_type": "code",
   "execution_count": 323,
   "id": "c959a9e1",
   "metadata": {},
   "outputs": [
    {
     "data": {
      "image/png": "[encoded data removed]",
      "text/plain": [
       "<Figure size 400x300 with 1 Axes>"
      ]
     },
     "metadata": {},
     "output_type": "display_data"
    },
    {
     "data": {
      "image/png": "[encoded data removed]",
      "text/plain": [
       "<Figure size 400x300 with 1 Axes>"
      ]
     },
     "metadata": {},
     "output_type": "display_data"
    },
    {
     "name": "stdout",
     "output_type": "stream",
     "text": [
      "R2 U2 R U R U R U2 R2 U2 R2 U2 R' U R U R' U2 R2 U2 20 0.15202546119689941\n"
     ]
    }
   ],
   "source": [
    "# cube = Cube()\n",
    "# cube.apply_moves(\"B R2 U R' U R U2 R U2 R U R' U R2 U R' U B' R2 L B R2 U R' U R U2 R U2 R U R' U R2 U R' U B' L' R2\") #R U2 R' U' R U R' U' R U' R2 U R' U' R' U' R' U R U R2\n",
    "# cube.plot()\n",
    "\n",
    "# t = time.time()\n",
    "# sol = solver_2gen(cube)\n",
    "# t = time.time()-t\n",
    "# cube.plot()\n",
    "# print(sol,count_moves(sol),t)"
   ]
  },
  {
   "cell_type": "code",
   "execution_count": 324,
   "id": "e07effb0",
   "metadata": {},
   "outputs": [
    {
     "data": {
      "image/png": "[encoded data removed]",
      "text/plain": [
       "<Figure size 640x480 with 1 Axes>"
      ]
     },
     "metadata": {},
     "output_type": "display_data"
    }
   ],
   "source": [
    "# lengths_distribution = []\n",
    "# for i in range(1,21):\n",
    "#     lengths_distribution.append(lengths.count(i))\n",
    "    \n",
    "# plt.scatter(range(1,21),np.array(lengths_distribution)/N)\n",
    "# plt.plot(range(1,21),np.array(lengths_distribution)/N)\n",
    "# plt.show()"
   ]
  },
  {
   "cell_type": "code",
   "execution_count": 356,
   "id": "54113c98",
   "metadata": {},
   "outputs": [],
   "source": [
    "def partly_solved(cube,ids):\n",
    "    '''\n",
    "    checks if the \"stickers\" at the ids are solved\n",
    "    '''\n",
    "    state = cube.state\n",
    "    ref_state = Cube().state\n",
    "    for i in ids:\n",
    "        if state[i] != ref_state[i]:\n",
    "            return False\n",
    "    return True\n",
    "\n",
    "# cube = Cube(1)\n",
    "# print(cube)\n",
    "# cube = Cube()"
   ]
  },
  {
   "cell_type": "code",
   "execution_count": 359,
   "id": "41a63f39",
   "metadata": {},
   "outputs": [],
   "source": [
    "def test_2gen(ids):\n",
    "    cube = Cube()\n",
    "    states = []\n",
    "    scr = \"\"\n",
    "    for k in range(100):\n",
    "        scr += random.choice(moveset)+\" \"\n",
    "    scr = scr.strip(\" \")\n",
    "    scr = cancel_alg(scr)\n",
    "    cube.apply_moves(scr)\n",
    "\n",
    "    while len(states)<1000:\n",
    "        cube.apply_moves(random.choice(moveset))\n",
    "        if partly_solved(cube, ids):\n",
    "            states.append(cube.state.copy())\n",
    "\n",
    "    solutions = []\n",
    "    lengths = []\n",
    "    for state in states:\n",
    "        cube.state = state\n",
    "        sol = solver_2gen(cube)\n",
    "        solutions.append(sol)\n",
    "        lengths.append(count_moves(sol))    \n",
    "    print(sum(lengths)/len(lengths), max(lengths))\n",
    "\n",
    "    lengths_distribution = []\n",
    "    for i in range(1,21):\n",
    "        lengths_distribution.append(lengths.count(i))\n",
    "    print(lengths_distribution)\n",
    "    plt.scatter(range(1,21),np.array(lengths_distribution)/len(lengths))\n",
    "    plt.plot(range(1,21),np.array(lengths_distribution)/len(lengths))\n",
    "    plt.show()\n",
    "\n",
    "ids = []\n",
    "# test_2gen(ids)"
   ]
  },
  {
   "cell_type": "code",
   "execution_count": 345,
   "id": "3dbb7619",
   "metadata": {},
   "outputs": [
    {
     "data": {
      "image/png": "[encoded data removed]",
      "text/plain": [
       "<Figure size 400x300 with 1 Axes>"
      ]
     },
     "metadata": {},
     "output_type": "display_data"
    }
   ],
   "source": [
    "# cube = Cube()\n",
    "# cube.state = states[-1]\n",
    "# cube.plot()"
   ]
  }
 ],
 "metadata": {
  "kernelspec": {
   "display_name": "Python 3 (ipykernel)",
   "language": "python",
   "name": "python3"
  },
  "language_info": {
   "codemirror_mode": {
    "name": "ipython",
    "version": 3
   },
   "file_extension": ".py",
   "mimetype": "text/x-python",
   "name": "python",
   "nbconvert_exporter": "python",
   "pygments_lexer": "ipython3",
   "version": "3.9.13"
  }
 },
 "nbformat": 4,
 "nbformat_minor": 5
}
