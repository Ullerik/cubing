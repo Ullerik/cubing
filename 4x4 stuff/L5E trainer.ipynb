{
 "cells": [
  {
   "cell_type": "code",
   "execution_count": 1,
   "metadata": {},
   "outputs": [
    {
     "name": "stdout",
     "output_type": "stream",
     "text": [
      "Support algs imported!\n",
      "Cube initiated\n"
     ]
    }
   ],
   "source": [
    "# load cycle_table_RF.json\n",
    "%run ../cube/Cube.ipynb\n",
    "\n",
    "import json\n",
    "\n",
    "# load cycle_table_RF.json\n",
    "with open('cycle_table_RF.json', 'r') as f:\n",
    "    cycle_table = json.load(f)"
   ]
  },
  {
   "cell_type": "code",
   "execution_count": 2,
   "metadata": {},
   "outputs": [],
   "source": [
    "alg_list = []\n",
    "# loop through the cycle_table_RF.json and get the list of algorithms\n",
    "# that is, for all the keys, add cycle_table[key] to alg_list\n",
    "\n",
    "for key in cycle_table:\n",
    "    if len(cycle_table[key])>0:\n",
    "        alg_list += [cycle_table[key][0]]"
   ]
  },
  {
   "cell_type": "code",
   "execution_count": 14,
   "metadata": {},
   "outputs": [
    {
     "name": "stdout",
     "output_type": "stream",
     "text": [
      "R U' Rw' F' U' F U Rw R'\n",
      "U' F' U' Rw2 D' Rw U' Rw' D Rw2 F Rw' U Rw\n"
     ]
    }
   ],
   "source": [
    "# print a random algorithm from the list\n",
    "import random\n",
    "\n",
    "print(random.choice(alg_list))\n",
    "print(random.choice(alg_list))"
   ]
  },
  {
   "cell_type": "code",
   "execution_count": 15,
   "metadata": {},
   "outputs": [
    {
     "name": "stdout",
     "output_type": "stream",
     "text": [
      "Rw R D Rw' U2 Rw D' Rw2 U' R U Rw R2\n",
      "Rw R' U Rw' U R U2 R' U Rw U' Rw' R\n",
      "Rw U' Rw2 U2 R U R' U Rw2 U Rw'\n",
      "Rw' U' Rw R F R F' Rw' R' U Rw\n",
      "Rw R D Rw' U2 Rw D' R2 U R U' Rw'\n",
      "R2 U2 Rw U R D U' Rw' U2 Rw D' Rw' R2\n",
      "Rw U2 Rw2 F R F' Rw2 R2 U' R U' Rw'\n",
      "Rw U2 Rw2 R U' R U Rw2 R U' R U' Rw'\n",
      "Rw' U2 R U R' U Rw' B2 Rw2 U Rw2 B2 Rw2\n",
      "F' U Rw' F Rw U F2 U Rw U' Rw' F'\n",
      "Rw' U' R' F R F' Rw' D' Rw U Rw' D Rw2\n",
      "Rw' U' Rw R' F' U F U2 R U Rw' U Rw\n",
      "F' U' Rw' U' Rw F Rw' R' F R F' U Rw\n",
      "Rw U2 R2 U' R U' F' Rw' U2 Rw F Rw' R\n",
      "Rw2 F2 Rw2 U Rw' F' U' F U Rw' F2 Rw2\n",
      "Rw U2 Rw2 U' R2 U Rw2 R2 F R2 F' U2 Rw'\n",
      "Rw' U' Rw F R' F' U' R2 U Rw' R' U Rw\n",
      "F' R' F Rw' F2 U' F2 U Rw F' R F\n",
      "Rw' U' Rw' D' Rw U Rw' D B2 Rw2 U' Rw2 B2 Rw2\n",
      "Rw2 F2 Rw2 U' Rw2 F2 Rw' U R' U' Rw' R\n",
      "Rw U' Rw2 U' R U' R' U2 Rw2 U Rw'\n",
      "F' R' F' Rw' F2 U' F2 U Rw F R F\n",
      "Rw' U' R U Rw R2 U' Rw' R2 U' R' U Rw\n",
      "Rw2 F2 Rw2 U Rw2 F2 Rw R F R' F' Rw\n",
      "Rw' U' Rw U' R U F R2 F' Rw' R' U Rw\n",
      "R2 D' Rw' R' F2 U' F2 U Rw R D R2\n",
      "F' U' Rw' U' Rw F Rw' R2 U' R2 U2 Rw\n",
      "Rw U' Rw' U' Rw R' U2 Rw' R U Rw U Rw'\n",
      "Rw U' Rw2 F' U' F U Rw2 U Rw'\n",
      "Rw U R' U Rw2 R2 F R' F' Rw2 U2 Rw'\n",
      "Rw2 F2 Rw2 U Rw2 F2 Rw' U R' U' Rw' R\n",
      "Rw' U2 Rw2 U R' F R' F' U' Rw2 U R2 U Rw\n",
      "R2 D Rw' U2 R' F' U2 F Rw U2 R2 D' R\n",
      "Rw' U' R U' Rw2 U R2 U' Rw2 R' U2 Rw\n",
      "Rw2 F2 Rw2 U' Rw' U R U' Rw' F R' F Rw2\n",
      "Rw2 F2 Rw2 U' Rw' F' U' F U Rw' F2 Rw2\n",
      "Rw' R F R' F Rw2 U Rw2 F2 Rw2 U' Rw'\n",
      "Rw2 F2 Rw F' U' F U Rw U' Rw2 F2 Rw2\n",
      "R2 D R U2 Rw' F' U2 F R' U2 Rw D' R\n",
      "Rw' F' U' Rw F Rw' U' Rw F' Rw' F U2 Rw\n",
      "Rw' U' Rw R2 F R F' Rw' R U Rw\n",
      "Rw' U Rw2 U R' U R U2 Rw2 U' Rw\n",
      "Rw2 F2 Rw2 U Rw2 F2 Rw' U2 R' U' R U' Rw'\n",
      "Rw' U Rw U Rw' R U2 Rw R' U' Rw' U' Rw\n",
      "Rw2 R2 F2 Rw U' R' U Rw U' Rw2 F2 Rw2 R'\n",
      "R' F Rw2 U Rw2 R F' R' F Rw2 U' Rw2 F' R\n",
      "Rw' R2 U' Rw' R' D' Rw U Rw' D Rw2 R'\n",
      "R' F' Rw' U' Rw F Rw' F R2 F' U Rw R\n",
      "Rw R' U Rw' R2 U' R' U Rw U' Rw'\n",
      "Rw U Rw' U R U' Rw R' U' Rw'\n",
      "Rw' U2 R U Rw U' R' U Rw' U Rw\n",
      "Rw R' U Rw U R' U' Rw' R2 U' Rw'\n",
      "Rw' F Rw2 U2 R' U' R U' Rw2 F' Rw\n",
      "Rw' U' Rw R' U' R U Rw' U Rw\n",
      "F R' F' Rw' U' Rw U' R' U Rw' U Rw R\n",
      "Rw2 B2 Rw2 U Rw2 B2 Rw2\n",
      "Rw' F Rw2 U R' U R U2 Rw2 F' Rw\n",
      "Rw' U' Rw U' R' U Rw' R U Rw\n",
      "R U2 R' F Rw2 U F' R2 F U' Rw2 F'\n",
      "Rw' R F R' F' D' Rw U' Rw' D Rw\n"
     ]
    },
    {
     "data": {
      "text/plain": [
       "60"
      ]
     },
     "execution_count": 15,
     "metadata": {},
     "output_type": "execute_result"
    }
   ],
   "source": [
    "cycles_4 = []\n",
    "\n",
    "for key in cycle_table:\n",
    "    if key[:2] == \"55\":\n",
    "        # split into 2 and 2 characters\n",
    "        key_split = [key[i:i+2] for i in range(2, len(key), 2)]\n",
    "        full_cycle = True\n",
    "        # if any of the 2 character splits contain 2 same characters, then it is not a full cycle\n",
    "        for i in key_split:\n",
    "            if i[0] == i[1]:\n",
    "                full_cycle = False\n",
    "        if full_cycle and cycle_table[key]:\n",
    "            print(cycle_table[key][0])\n",
    "            cycles_4.append(cycle_table[key][0])\n",
    "\n",
    "len(cycles_4)"
   ]
  },
  {
   "cell_type": "code",
   "execution_count": 5,
   "metadata": {},
   "outputs": [
    {
     "name": "stdout",
     "output_type": "stream",
     "text": [
      "Cube initialized\n",
      "\n",
      "         64 65 66 67\n",
      "         68 69 70 71\n",
      "         72 73 74 75\n",
      "         76 77 78 79\n",
      "48 49 50 51  0 1 2 3  16 17 18 19  32 33 34 35\n",
      "52 53 54 55  4 5 6 7  20 21 22 23  36 37 38 39\n",
      "56 57 58 59  8 9 10 11  24 25 26 27  40 41 42 43\n",
      "60 61 62 63  12 13 14 15  28 29 30 31  44 45 46 47\n",
      "         80 81 82 83\n",
      "         84 85 86 87\n",
      "         88 89 90 91\n",
      "         92 93 94 95\n"
     ]
    }
   ],
   "source": [
    "%run Cube4.ipynb\n",
    "\n",
    "import numpy as np\n",
    "import random\n",
    "import time\n",
    "from numba import njit"
   ]
  },
  {
   "cell_type": "code",
   "execution_count": 79,
   "metadata": {},
   "outputs": [],
   "source": [
    "def code_to_cubestate(code, mode):\n",
    "    cube = Cube4(mode)\n",
    "    state = cube.state\n",
    "\n",
    "    if mode == 5:\n",
    "        index_pairs = np.array([[27,40],[23,36],[1,77],[2,78],[17,75],[18,71],[33,66],[34,65],[49,68],[50,72]])\n",
    "    if mode == 6:\n",
    "        index_pairs = np.array([[11,24],[7,20],[1,77],[2,78],[17,75],[18,71],[33,66],[34,65],[49,68],[50,72]])\n",
    "\n",
    "\n",
    "    for i, pair in enumerate(code):\n",
    "        pair = int(pair)\n",
    "        state[index_pairs[i][0]] = pair\n",
    "        state[index_pairs[i][1]] = pair\n",
    "\n",
    "    return state\n",
    "\n",
    "\n",
    "@njit\n",
    "def check_wings(cubestate):\n",
    "    # cube in mode 2\n",
    "    # check all wings, we only need to check one sticker per wing\n",
    "    pairs = np.array([[1,2],[17,18],[33,34], [49,50], [4,8],[20,24],[36,40],[52,56], [13,14],[29,30],[45,46],[61,62]])\n",
    "    for pair in pairs:\n",
    "        if cubestate[pair[0]] != cubestate[pair[1]]:\n",
    "            return False\n",
    "    return True"
   ]
  },
  {
   "cell_type": "code",
   "execution_count": 194,
   "metadata": {},
   "outputs": [
    {
     "name": "stdout",
     "output_type": "stream",
     "text": [
      "0\n",
      "22\n"
     ]
    }
   ],
   "source": [
    "# we want to check which algs from above we actually need\n",
    "# for each alg, apply the alg in reverse, then check all algs from the next alg.\n",
    "# if this alg solves the cube, then we don't need this alg so we can pop it from the list\n",
    "\n",
    "# cycles_4 = []\n",
    "\n",
    "# for key in cycle_table:\n",
    "#     if key[:2] == \"55\":\n",
    "#         # split into 2 and 2 characters\n",
    "#         key_split = [key[i:i+2] for i in range(2, len(key), 2)]\n",
    "#         full_cycle = True\n",
    "#         # if any of the 2 character splits contain 2 same characters, then it is not a full cycle\n",
    "#         for i in key_split:\n",
    "#             if i[0] == i[1]:\n",
    "#                 full_cycle = False\n",
    "#         if full_cycle and cycle_table[key]:\n",
    "#             cycles_4.append(cycle_table[key][0])\n",
    "\n",
    "\n",
    "code = \"5511223344\"\n",
    "mode = 6\n",
    "cube = Cube4(mode)\n",
    "cube.state = code_to_cubestate(code, mode)\n",
    "\n",
    "non_unique = []\n",
    "for i, cycle in enumerate(cycles_4):\n",
    "    inv = inverse_alg(cycle)\n",
    "    cube.apply_moves(inv)\n",
    "\n",
    "    # go through the rest of the algs in reverse\n",
    "    b = False\n",
    "    for j, cycle2 in enumerate(cycles_4):\n",
    "        if j <= i:\n",
    "            continue\n",
    "        if j in non_unique:\n",
    "            continue\n",
    "        for u in [\"\",\"U\",\"U'\",\"U2\"]:\n",
    "            cube.apply_moves(u)\n",
    "            cube.apply_moves(cycle2)\n",
    "            if check_wings(cube.state) and j not in non_unique:\n",
    "                print(j, inverse_alg(cycle2), \"|\",u, \"|\", cycle)\n",
    "                non_unique.append(j)\n",
    "                b = True\n",
    "            cube.apply_moves(inverse_alg(cycle2))\n",
    "            cube.apply_moves(inverse_alg(u))\n",
    "            if b:\n",
    "                break\n",
    "        if b:\n",
    "            break\n",
    "\n",
    "    cube.apply_moves(cycle)\n",
    "\n",
    "# remove the non-unique algs\n",
    "print(len(non_unique))\n",
    "\n",
    "for i in sorted(non_unique, reverse=True):\n",
    "    cycles_4.pop(i)\n",
    "print(len(cycles_4))"
   ]
  },
  {
   "cell_type": "code",
   "execution_count": null,
   "metadata": {},
   "outputs": [],
   "source": []
  },
  {
   "cell_type": "code",
   "execution_count": 1,
   "metadata": {},
   "outputs": [
    {
     "name": "stdout",
     "output_type": "stream",
     "text": [
      "Original memory usage: 96 bytes\n",
      "Compressed memory usage: 24 bytes\n",
      "Reduction in memory usage: 72 bytes\n"
     ]
    }
   ],
   "source": [
    "import numpy as np\n",
    "\n",
    "# Original array\n",
    "original_array = np.array([\n",
    "    [0, -1, -1, -1, -1, -1],\n",
    "    [1, -1, -1, -1, -1, -1],\n",
    "    [2, -1, -1, -1, -1, -1],\n",
    "    [38, 20, 38, 20, 36, 18]\n",
    "])\n",
    "\n",
    "# Memory usage of original array\n",
    "original_memory = original_array.nbytes\n",
    "\n",
    "# Compressed array\n",
    "compressed_array = np.array(original_array, dtype=np.int8)\n",
    "\n",
    "# Memory usage of compressed array\n",
    "compressed_memory = compressed_array.nbytes\n",
    "\n",
    "# Reduction in memory usage\n",
    "memory_reduction = original_memory - compressed_memory\n",
    "\n",
    "print(\"Original memory usage:\", original_memory, \"bytes\")\n",
    "print(\"Compressed memory usage:\", compressed_memory, \"bytes\")\n",
    "print(\"Reduction in memory usage:\", memory_reduction, \"bytes\")"
   ]
  }
 ],
 "metadata": {
  "kernelspec": {
   "display_name": "base",
   "language": "python",
   "name": "python3"
  },
  "language_info": {
   "codemirror_mode": {
    "name": "ipython",
    "version": 3
   },
   "file_extension": ".py",
   "mimetype": "text/x-python",
   "name": "python",
   "nbconvert_exporter": "python",
   "pygments_lexer": "ipython3",
   "version": "3.9.13"
  }
 },
 "nbformat": 4,
 "nbformat_minor": 2
}
