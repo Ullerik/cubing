{
 "cells": [
  {
   "cell_type": "code",
   "execution_count": 1,
   "id": "6e538712",
   "metadata": {},
   "outputs": [
    {
     "data": {
      "text/plain": [
       "'\\nExplore the following method or something like it for solving 2gen:\\n\\n1. Solve non-e-slice in bottom and a \"DR pair\" together (any piece, top/bottom color on bottom and e-slice in e-slice)\\n2. Set up the next DR pair, ready to insert it with R U\\' R (or R\\' U R, or potentially other cases)\\n3. Solve pair while orienting all corners (27 algs for each case)\\n4. Solve D corners in D layer using <U,R2>, potentially also with e-slice solved (usually adds 2 moves)\\n5. Solve the rest with 1 alg (17-20 algs?)\\n\\n'"
      ]
     },
     "execution_count": 1,
     "metadata": {},
     "output_type": "execute_result"
    }
   ],
   "source": [
    "'''\n",
    "Explore the following method or something like it for solving 2gen:\n",
    "\n",
    "1. Solve non-e-slice in bottom and a \"DR pair\" together (any piece, top/bottom color on bottom and e-slice in e-slice)\n",
    "2. Set up the next DR pair, ready to insert it with R U' R (or R' U R, or potentially other cases)\n",
    "3. Solve pair while orienting all corners (27 algs for each case)\n",
    "4. Solve D corners in D layer using <U,R2>, potentially also with e-slice solved (usually adds 2 moves)\n",
    "5. Solve the rest with 1 alg (17-20 algs?)\n",
    "\n",
    "'''"
   ]
  },
  {
   "cell_type": "code",
   "execution_count": 2,
   "id": "34545fc4",
   "metadata": {},
   "outputs": [
    {
     "name": "stdout",
     "output_type": "stream",
     "text": [
      "Support algs imported!\n",
      "0.07528471946716309\n"
     ]
    },
    {
     "data": {
      "image/png": "[encoded data removed]",
      "text/plain": [
       "<Figure size 400x300 with 1 Axes>"
      ]
     },
     "metadata": {},
     "output_type": "display_data"
    },
    {
     "data": {
      "image/png": "[encoded data removed]",
      "text/plain": [
       "<Figure size 400x300 with 1 Axes>"
      ]
     },
     "metadata": {},
     "output_type": "display_data"
    },
    {
     "data": {
      "image/png": "[encoded data removed]",
      "text/plain": [
       "<Figure size 400x300 with 1 Axes>"
      ]
     },
     "metadata": {},
     "output_type": "display_data"
    },
    {
     "name": "stdout",
     "output_type": "stream",
     "text": [
      "Cube initiated\n"
     ]
    }
   ],
   "source": [
    "%run \"2gen optimal solver.ipynb\""
   ]
  },
  {
   "cell_type": "code",
   "execution_count": 3,
   "id": "0af4f153",
   "metadata": {},
   "outputs": [
    {
     "name": "stdout",
     "output_type": "stream",
     "text": [
      "16 R' U2 R' U R' U R U' R' U R' U R U2 R' U2\n"
     ]
    }
   ],
   "source": [
    "cube = Cube()\n",
    "scr = \"\"\n",
    "for k in range(200):\n",
    "    scr += random.choice(moveset)+\" \"\n",
    "scr = scr.strip()\n",
    "cube.apply_moves(scr)\n",
    "sol = solver_2gen(cube)\n",
    "print(len(sol.split(\" \")),sol)"
   ]
  },
  {
   "cell_type": "code",
   "execution_count": 4,
   "id": "6ab805f6",
   "metadata": {},
   "outputs": [
    {
     "name": "stdout",
     "output_type": "stream",
     "text": [
      "0.042112112045288086\n"
     ]
    }
   ],
   "source": [
    "cube = Cube(1)\n",
    "cube\n",
    "\n",
    "@njit\n",
    "def id_DR(cubestate):\n",
    "    ids = [0,1,2,5,9,10,11,12,14,15,16,17,18,19,20,21,36,37,38,42,43,44,47,50,53]\n",
    "    str_id = 1\n",
    "    for j,i in enumerate(ids):\n",
    "        str_id += cubestate[i]*3**j\n",
    "    return str_id\n",
    "\n",
    "id_DR(cube.state)\n",
    "\n",
    "t = time.time()\n",
    "for i in range(100_000):\n",
    "    id_DR(cube.state)\n",
    "    \n",
    "print(time.time()-t)"
   ]
  },
  {
   "cell_type": "code",
   "execution_count": 5,
   "id": "b2323462",
   "metadata": {},
   "outputs": [
    {
     "data": {
      "text/plain": [
       "(       0 0 0\n",
       "        0 0 0\n",
       "        1 0 1\n",
       " 0 2 0  0 0 0  0 0 0  1 2 1\n",
       " 0 0 0  0 0 0  0 0 0  0 0 0\n",
       " 0 0 0  0 0 0  0 0 0  0 0 0\n",
       "        0 0 1\n",
       "        0 0 0\n",
       "        0 0 1,\n",
       " 325441713817)"
      ]
     },
     "execution_count": 5,
     "metadata": {},
     "output_type": "execute_result"
    }
   ],
   "source": [
    "cube = Cube(7)\n",
    "scr = \"\"\n",
    "for k in range(200):\n",
    "    scr += random.choice(moveset)+\" \"\n",
    "scr = scr.strip()\n",
    "cube.apply_moves(scr)\n",
    "cube, id_DR(cube.state)"
   ]
  },
  {
   "cell_type": "code",
   "execution_count": 6,
   "id": "35a8be01",
   "metadata": {},
   "outputs": [
    {
     "data": {
      "text/plain": [
       "'\\nGen \"DR WV\" algs:\\n\\n1. Gen table\\n    cube in mode 7\\n    for algs up to length k\\n    apply alg, get ID, save ID in table with inverse\\n    \\n2. Gen states\\n    set up pair solved in RB, with pair being R U\\' R\\' from solved.\\n    loop though 3 numbers from 0 to 2 to determine FUR, BUR, BUL, then calculate how FDR should be rotated\\n    make cubestate in mode 7 based on this, save state\\n\\n3. Gen algs (gen algs up to length k+N)\\n    for state in states:\\n        check if solution exist in table, if so save it\\n        then for n = 1,2,3,...,N:\\n            apply all 2gen algs of length n\\n            check if solution exist, if so save it if it doesn\\'t exist already (make sure to cancle alg first!)\\n'"
      ]
     },
     "execution_count": 6,
     "metadata": {},
     "output_type": "execute_result"
    }
   ],
   "source": [
    "'''\n",
    "Gen \"DR WV\" algs:\n",
    "\n",
    "1. Gen table\n",
    "    cube in mode 7\n",
    "    for algs up to length k\n",
    "    apply alg, get ID, save ID in table with inverse\n",
    "    \n",
    "2. Gen states\n",
    "    set up pair solved in RB, with pair being R U' R' from solved.\n",
    "    loop though 3 numbers from 0 to 2 to determine FUR, BUR, BUL, then calculate how FDR should be rotated\n",
    "    make cubestate in mode 7 based on this, save state\n",
    "\n",
    "3. Gen algs (gen algs up to length k+N)\n",
    "    for state in states:\n",
    "        check if solution exist in table, if so save it\n",
    "        then for n = 1,2,3,...,N:\n",
    "            apply all 2gen algs of length n\n",
    "            check if solution exist, if so save it if it doesn't exist already (make sure to cancle alg first!)\n",
    "'''"
   ]
  },
  {
   "cell_type": "code",
   "execution_count": 7,
   "id": "92991348",
   "metadata": {},
   "outputs": [
    {
     "name": "stdout",
     "output_type": "stream",
     "text": [
      "14.690522909164429 to gen 4995 algs of length 11\n"
     ]
    }
   ],
   "source": [
    "def save_state(table, alg, unique = False):\n",
    "    cube = Cube(7)\n",
    "    cube.apply_moves(alg)\n",
    "    dr_id = id_DR(cube.state)\n",
    "    if unique:\n",
    "        if dr_id not in table.keys():\n",
    "            table[dr_id] = inverse_alg(alg)\n",
    "    else:\n",
    "        if dr_id not in table.keys():\n",
    "            table[dr_id] = [inverse_alg(alg)]\n",
    "        else:\n",
    "            table[dr_id] += [inverse_alg(alg)]\n",
    "     \n",
    "    return table\n",
    "\n",
    "def gen_dr_2gen_table(k, unique = False):\n",
    "    # k: max length of algs\n",
    "    # unique: if True, it only saves one (shortest) alg, if False, saves all\n",
    "    \n",
    "    table = {}\n",
    "    cube = Cube(7)\n",
    "    table = save_state(table, \"\", unique)\n",
    "    for i in range(k):\n",
    "        ai = alg_index_2gen(i+1)\n",
    "        start_alg = ai.get_alg()\n",
    "        table = save_state(table, ai.get_alg(), unique)\n",
    "        ai.increment()\n",
    "        while start_alg != ai.get_alg():\n",
    "            table = save_state(table, ai.get_alg(), unique)\n",
    "            ai.increment()\n",
    "    \n",
    "    return table\n",
    "    \n",
    "'''\n",
    "1 0.0009982585906982422 to gen 2 algs\n",
    "2 0.0 to gen 5 algs\n",
    "3 0.0015053749084472656 to gen 14 algs\n",
    "4 0.004005908966064453 to gen 39 algs\n",
    "5 0.014313936233520508 to gen 98 algs\n",
    "6 0.04474639892578125 to gen 235 algs\n",
    "7 0.11516022682189941 to gen 585 algs\n",
    "8 0.3608267307281494 to gen 1381 algs\n",
    "9 1.2128047943115234 to gen 2703 algs\n",
    "10 4.124061822891235 to gen 4205 algs\n",
    "11 15.414634466171265 to gen 4995 algs\n",
    "12 56.936766147613525 to gen 5101 algs\n",
    "13 234.09722900390625 to gen 5103 algs\n",
    "'''\n",
    "k = 11\n",
    "t = time.time()\n",
    "table_2gen_dr = gen_dr_2gen_table(k, True)\n",
    "print(f\"{time.time()-t} to gen {len(table_2gen_dr)} algs of length {k}\")"
   ]
  },
  {
   "cell_type": "code",
   "execution_count": 8,
   "id": "537e020f",
   "metadata": {
    "scrolled": true
   },
   "outputs": [],
   "source": [
    "'''\n",
    "         36 37 38\n",
    "         39 40 41\n",
    "         42 43 44\n",
    "27 28 29  0 1 2  9 10 11  18 19 20\n",
    "30 31 32  3 4 5  12 13 14  21 22 23\n",
    "33 34 35  6 7 8  15 16 17  24 25 26\n",
    "         45 46 47\n",
    "         48 49 50\n",
    "         51 52 53\n",
    "'''\n",
    "def gen_dr_wv_states(z):\n",
    "    states = []\n",
    "    I = [44,9,2]\n",
    "    J = [38,18,11]\n",
    "    K = [36,27,20]\n",
    "    H = [47,15,8]\n",
    "    Z = [42,0,29][z]\n",
    "    for i in range(3):\n",
    "        for j in range(3):\n",
    "            for k in range(3):\n",
    "                h = (z+i+j+k) %3\n",
    "                state = np.array([0]*54)\n",
    "                state[1] = state [14] = 2\n",
    "                state[Z] = state[53] = state[I[i]] = state[J[j]] = state[K[k]] = state[H[h]] = 1\n",
    "                states += [state]\n",
    "#                 cube = Cube()\n",
    "#                 cube.state = state\n",
    "#                 print(cube)\n",
    "    return states\n",
    "\n",
    "\n",
    "dr_wv_states = []\n",
    "for z in range(3):\n",
    "    dr_wv_states += gen_dr_wv_states(z)"
   ]
  },
  {
   "cell_type": "code",
   "execution_count": 21,
   "id": "3049af29",
   "metadata": {
    "scrolled": true
   },
   "outputs": [
    {
     "name": "stdout",
     "output_type": "stream",
     "text": [
      "U R U' R' U2 R U R'\n",
      "R U' R U' R U2 R' U' R U' R'\n",
      "R' U R' U' R U2 R U R'\n",
      "R' U R2 U' R2 U R' U R U R'\n",
      "R2 U' R2 U' R2 U R2 U2 R U R'\n",
      "U' R U R' U' R2 U2 R' U' R'\n",
      "U' R U2 R2 U2 R' U2 R'\n",
      "R' U' R U' R2 U R' U R'\n",
      "U2 R2 U2 R' U' R'\n",
      "U R2 U2 R2 U R' U2 R U2 R'\n",
      "U2 R U R'\n",
      "U' R U' R' U2 R2 U R' U R'\n",
      "U' R' U' R2 U' R2 U R' U R'\n",
      "U2 R2 U R2 U' R' U' R U R'\n",
      "U' R2 U2 R2 U' R' U R2 U' R'\n",
      "U2 R' U2 R' U2 R2 U R'\n",
      "R' U R' U R' U' R2 U2 R2 U R'\n",
      "U' R U' R U R2 U2 R U2 R'\n",
      "U' R U R' U R U' R'\n",
      "R2 U' R' U2 R2 U2 R U2 R'\n",
      "U2 R2 U R' U R U2 R' U2 R'\n",
      "U' R2 U R' U R' U R U' R'\n",
      "R U R' U R U R'\n",
      "U R' U' R U' R U R U R'\n",
      "R' U' R2 U' R' U R U R'\n",
      "R' U2 R U' R' U2 R2 U R'\n",
      "R2 U R2 U R2 U2 R' U' R'\n",
      "U' R U R2 U2 R' U2 R'\n",
      "U' R U R U' R U2 R' U2 R'\n",
      "U' R2 U2 R' U R2 U2 R' U2 R'\n",
      "U' R' U' R U' R' U R2 U R'\n",
      "U' R U2 R' U' R2 U2 R' U' R'\n",
      "R U2 R' U' R2 U R' U R'\n",
      "R' U2 R2 U R U' R U2 R'\n",
      "R' U2 R' U R2 U R'\n",
      "R' U' R U' R U2 R'\n",
      "U' R U' R' U2 R U2 R'\n",
      "U' R U R U R2 U2 R U2 R'\n",
      "R' U2 R' U2 R2 U' R'\n",
      "U R2 U R' U R'\n",
      "U R' U' R U R' U R' U R'\n",
      "U' R' U2 R2 U R' U R2 U' R'\n",
      "R U2 R' U' R U2 R'\n",
      "R' U R U2 R U' R U2 R'\n",
      "U R U R' U' R U2 R'\n",
      "R' U R' U' R' U2 R' U R'\n",
      "U R' U2 R U R' U R2 U' R'\n",
      "U R U R' U2 R U' R'\n",
      "U R' U' R2 U R' U R' U R'\n",
      "R' U2 R' U2 R U R2 U R' U R'\n",
      "U' R2 U R U' R2 U' R U2 R'\n",
      "U' R' U' R2 U' R U2 R'\n",
      "R U2 R' U2 R U' R'\n",
      "R' U R' U R2 U' R' U2 R2 U R'\n",
      "U' R2 U2 R U2 R' U2 R'\n",
      "U' R' U2 R' U2 R'\n",
      "U' R2 U' R U R' U' R'\n",
      "U' R2 U' R U2 R' U2 R'\n",
      "U R' U' R2 U' R2 U2 R'\n",
      "U' R U' R2 U2 R' U2 R'\n",
      "U' R U2 R U' R U2 R' U2 R'\n",
      "U2 R U2 R' U R U2 R'\n",
      "R' U R' U2 R2 U R'\n",
      "U' R U2 R' U2 R U2 R'\n",
      "U' R2 U2 R' U R' U2 R U2 R'\n",
      "U' R U R' U2 R U2 R'\n",
      "U' R U' R' U' R U R'\n",
      "R U R' U2 R' U2 R' U2 R'\n",
      "U' R2 U R2 U2 R U2 R'\n",
      "U R U2 R'\n",
      "R U R U R2 U2 R U' R'\n",
      "R U' R2 U2 R U R' U R'\n",
      "R U' R'\n",
      "U' R U' R' U R U' R'\n",
      "U' R2 U2 R U' R' U R'\n",
      "U' R U2 R' U R U' R'\n",
      "R U' R2 U' R U' R' U2 R'\n",
      "U R U' R2 U R' U2 R2 U R'\n",
      "U' R2 U R U' R' U R'\n",
      "U2 R U' R U R2 U2 R U' R'\n",
      "R U2 R' U R' U2 R' U2 R'\n",
      "8.679012345679013\n"
     ]
    }
   ],
   "source": [
    "# gen 1 alg per case\n",
    "# testcase\n",
    "tot_moves = 0\n",
    "for i in range(81):\n",
    "    state = dr_wv_states[i]\n",
    "    dr_id = id_DR(state)\n",
    "\n",
    "    \n",
    "    cube = Cube()\n",
    "    cube.state = state\n",
    "    alg = table_2gen_dr[dr_id]\n",
    "    print(alg)\n",
    "    \n",
    "    tot_moves += len(alg.split(\" \"))\n",
    "print(tot_moves/81)"
   ]
  },
  {
   "cell_type": "code",
   "execution_count": 10,
   "id": "ee8db72b",
   "metadata": {},
   "outputs": [
    {
     "data": {
      "text/plain": [
       "       1 0 1\n",
       "       0 0 0\n",
       "       0 0 0\n",
       "0 0 1  0 2 1  0 0 0  0 0 0\n",
       "0 0 0  0 0 0  0 0 2  0 0 0\n",
       "0 0 0  0 0 0  1 0 0  0 0 0\n",
       "       0 0 0\n",
       "       0 0 0\n",
       "       0 0 1"
      ]
     },
     "execution_count": 10,
     "metadata": {},
     "output_type": "execute_result"
    }
   ],
   "source": [
    "cube = Cube(7)\n",
    "cube.apply_moves(\"R U R'\")\n",
    "cube"
   ]
  },
  {
   "cell_type": "code",
   "execution_count": 11,
   "id": "d0b3ff4e",
   "metadata": {},
   "outputs": [
    {
     "data": {
      "text/plain": [
       "'\\nGen algs for step 5:\\nTo begin with, we assume the e-slice is solved during step 4\\n\\nWe have an optimal 2-gen solver, so we only need to gen the cases!\\nThe important part is to remove duplicates\\n\\nBoth pairs and top layer is solved\\n\\nNote!\\nThere\\'s only \"2\" cases; (1) when the RD-edge is solved and (2) when it\\'s not.\\nThis is because you can always \"orient\" the top layer around \\nRD being in a specific slot when it\\'s not solved, \\nthen doing auf after to fix it\\n\\nFor (1) we have 4 algs, Ua, Ub, Z and H\\nFor (2) we have 12(?) algs:\\n    \\n\\n'"
      ]
     },
     "execution_count": 11,
     "metadata": {},
     "output_type": "execute_result"
    }
   ],
   "source": [
    "'''\n",
    "Gen algs for step 5:\n",
    "To begin with, we assume the e-slice is solved during step 4\n",
    "\n",
    "We have an optimal 2-gen solver, so we only need to gen the cases!\n",
    "The important part is to remove duplicates\n",
    "\n",
    "Both pairs and top layer is solved\n",
    "\n",
    "Note!\n",
    "There's only \"2\" cases; (1) when the RD-edge is solved and (2) when it's not.\n",
    "This is because you can always \"orient\" the top layer around \n",
    "RD being in a specific slot when it's not solved, \n",
    "then doing auf after to fix it\n",
    "\n",
    "For (1) we have 4 algs, Ua, Ub, Z and H\n",
    "For (2) we have 12(?) algs:\n",
    "    \n",
    "\n",
    "'''"
   ]
  },
  {
   "cell_type": "code",
   "execution_count": 12,
   "id": "03619734",
   "metadata": {},
   "outputs": [
    {
     "data": {
      "image/png": "[encoded data removed]",
      "text/plain": [
       "<Figure size 400x300 with 1 Axes>"
      ]
     },
     "metadata": {},
     "output_type": "display_data"
    }
   ],
   "source": [
    "cube = Cube()\n",
    "cube.apply_moves(\"U R U2 R' U' R' U' R2 U R\")\n",
    "cube.plot()"
   ]
  },
  {
   "cell_type": "code",
   "execution_count": 13,
   "id": "f0d0b53a",
   "metadata": {},
   "outputs": [],
   "source": [
    "# gen states: just do random Us and U-perms, always auf before counting state\n",
    "uperm = \"R U' R U R U R U' R' U' R2\"\n",
    "us = [\"\",\"U\",\"U2\",\"U'\"]\n",
    "cube = Cube()\n",
    "cube.apply_moves(\"U R U2 R' U' R' U' R2 U R\")\n",
    "\n",
    "\n",
    "states = []\n",
    "ids = []\n",
    "for i in range(100): # big number\n",
    "    if id_from_state(cube.state) not in ids:\n",
    "        states += [cube.state]\n",
    "        ids += [id_from_state(cube.state)]\n",
    "    r = random.randint(0,3)\n",
    "    ri = (-r)%4\n",
    "    cube.apply_moves(us[r])\n",
    "    cube.apply_moves(uperm)\n",
    "    cube.apply_moves(us[ri])"
   ]
  },
  {
   "cell_type": "code",
   "execution_count": 14,
   "id": "47c02454",
   "metadata": {},
   "outputs": [
    {
     "data": {
      "image/png": "[encoded data removed]",
      "text/plain": [
       "<Figure size 400x300 with 1 Axes>"
      ]
     },
     "metadata": {},
     "output_type": "display_data"
    },
    {
     "name": "stdout",
     "output_type": "stream",
     "text": [
      "R' U' R2 U R U R U2 R' U'\n"
     ]
    },
    {
     "data": {
      "image/png": "[encoded data removed]",
      "text/plain": [
       "<Figure size 400x300 with 1 Axes>"
      ]
     },
     "metadata": {},
     "output_type": "display_data"
    },
    {
     "name": "stdout",
     "output_type": "stream",
     "text": [
      "R U R' U' R' U' R' U R U\n"
     ]
    },
    {
     "data": {
      "image/png": "[encoded data removed]",
      "text/plain": [
       "<Figure size 400x300 with 1 Axes>"
      ]
     },
     "metadata": {},
     "output_type": "display_data"
    },
    {
     "name": "stdout",
     "output_type": "stream",
     "text": [
      "U R U R' U R U' R' U' R' U2 R' U2 R\n"
     ]
    },
    {
     "data": {
      "image/png": "[encoded data removed]",
      "text/plain": [
       "<Figure size 400x300 with 1 Axes>"
      ]
     },
     "metadata": {},
     "output_type": "display_data"
    },
    {
     "name": "stdout",
     "output_type": "stream",
     "text": [
      "U2 R' U2 R2 U2 R2 U2 R' U2\n"
     ]
    },
    {
     "data": {
      "image/png": "[encoded data removed]",
      "text/plain": [
       "<Figure size 400x300 with 1 Axes>"
      ]
     },
     "metadata": {},
     "output_type": "display_data"
    },
    {
     "name": "stdout",
     "output_type": "stream",
     "text": [
      "R2 U R' U2 R2 U2 R2 U2 R' U' R2\n"
     ]
    },
    {
     "data": {
      "image/png": "[encoded data removed]",
      "text/plain": [
       "<Figure size 400x300 with 1 Axes>"
      ]
     },
     "metadata": {},
     "output_type": "display_data"
    },
    {
     "name": "stdout",
     "output_type": "stream",
     "text": [
      "U' R' U' R U' R' U R U R U2 R U2 R'\n"
     ]
    },
    {
     "data": {
      "image/png": "[encoded data removed]",
      "text/plain": [
       "<Figure size 400x300 with 1 Axes>"
      ]
     },
     "metadata": {},
     "output_type": "display_data"
    },
    {
     "name": "stdout",
     "output_type": "stream",
     "text": [
      "R U2 R2 U' R U R U' R U' R' U'\n"
     ]
    },
    {
     "data": {
      "image/png": "[encoded data removed]",
      "text/plain": [
       "<Figure size 400x300 with 1 Axes>"
      ]
     },
     "metadata": {},
     "output_type": "display_data"
    },
    {
     "name": "stdout",
     "output_type": "stream",
     "text": [
      "R2 U' R' U2 R2 U2 R2 U2 R' U R2\n"
     ]
    },
    {
     "data": {
      "image/png": "[encoded data removed]",
      "text/plain": [
       "<Figure size 400x300 with 1 Axes>"
      ]
     },
     "metadata": {},
     "output_type": "display_data"
    },
    {
     "name": "stdout",
     "output_type": "stream",
     "text": [
      "R' U2 R2 U R' U' R' U R' U R U\n"
     ]
    },
    {
     "data": {
      "image/png": "[encoded data removed]",
      "text/plain": [
       "<Figure size 400x300 with 1 Axes>"
      ]
     },
     "metadata": {},
     "output_type": "display_data"
    },
    {
     "name": "stdout",
     "output_type": "stream",
     "text": [
      "R U R' U R' U' R' U' R2 U2 R U\n"
     ]
    },
    {
     "data": {
      "image/png": "[encoded data removed]",
      "text/plain": [
       "<Figure size 400x300 with 1 Axes>"
      ]
     },
     "metadata": {},
     "output_type": "display_data"
    },
    {
     "name": "stdout",
     "output_type": "stream",
     "text": [
      "R' U' R U' R U R U R2 U2 R' U'\n"
     ]
    },
    {
     "data": {
      "image/png": "[encoded data removed]",
      "text/plain": [
       "<Figure size 400x300 with 1 Axes>"
      ]
     },
     "metadata": {},
     "output_type": "display_data"
    },
    {
     "name": "stdout",
     "output_type": "stream",
     "text": [
      "R' U' R U R U R U' R' U'\n"
     ]
    }
   ],
   "source": [
    "# gen algs:\n",
    "# for each state, find optimal solution\n",
    "cube = Cube()\n",
    "algs = []\n",
    "for state in states:\n",
    "    cube.state = state\n",
    "    cube.plot()\n",
    "    alg = solver_2gen(cube)\n",
    "    print(alg)\n",
    "    algs.append(alg)\n"
   ]
  },
  {
   "cell_type": "code",
   "execution_count": 15,
   "id": "ae813cb7",
   "metadata": {},
   "outputs": [
    {
     "name": "stdout",
     "output_type": "stream",
     "text": [
      "11.416666666666666\n"
     ]
    }
   ],
   "source": [
    "tot = 0\n",
    "for alg in algs:\n",
    "    tot += len(alg.split(\" \"))\n",
    "print(tot/(len(algs)))"
   ]
  },
  {
   "cell_type": "code",
   "execution_count": 16,
   "id": "90cb5c23",
   "metadata": {},
   "outputs": [
    {
     "name": "stdout",
     "output_type": "stream",
     "text": [
      "5 R' U' R2 U R U R U2 R' U'\n",
      "6 R U R' U' R' U' R' U R U\n",
      "7 U R U R' U R U' R' U' R' U2 R' U2 R\n",
      "8 U2 R' U2 R2 U2 R2 U2 R' U2\n",
      "9 R2 U R' U2 R2 U2 R2 U2 R' U' R2\n",
      "10 U' R' U' R U' R' U R U R U2 R U2 R'\n",
      "11 R U2 R2 U' R U R U' R U' R' U'\n",
      "12 R2 U' R' U2 R2 U2 R2 U2 R' U R2\n",
      "13 R' U2 R2 U R' U' R' U R' U R U\n",
      "14 R U R' U R' U' R' U' R2 U2 R U\n",
      "15 R' U' R U' R U R U R2 U2 R' U'\n",
      "16 R' U' R U R U R U' R' U'\n"
     ]
    }
   ],
   "source": [
    "for i,alg in enumerate(algs):\n",
    "    print(i+5,alg)"
   ]
  },
  {
   "cell_type": "code",
   "execution_count": 17,
   "id": "87646595",
   "metadata": {},
   "outputs": [
    {
     "data": {
      "text/plain": [
       "\"R2 U R U R' U' R' U' R' U R'\""
      ]
     },
     "execution_count": 17,
     "metadata": {},
     "output_type": "execute_result"
    }
   ],
   "source": [
    "inverse_alg(\"R U' R U R U R U' R' U' R2\")"
   ]
  },
  {
   "cell_type": "code",
   "execution_count": 18,
   "id": "05a478bc",
   "metadata": {},
   "outputs": [
    {
     "data": {
      "text/plain": [
       "23"
      ]
     },
     "execution_count": 18,
     "metadata": {},
     "output_type": "execute_result"
    }
   ],
   "source": [
    "0+9*2+3+2"
   ]
  },
  {
   "cell_type": "code",
   "execution_count": 19,
   "id": "2514fb90",
   "metadata": {},
   "outputs": [
    {
     "data": {
      "image/png": "[encoded data removed]",
      "text/plain": [
       "<Figure size 400x300 with 1 Axes>"
      ]
     },
     "metadata": {},
     "output_type": "display_data"
    },
    {
     "name": "stdout",
     "output_type": "stream",
     "text": [
      "U R2 U' R2 U2 R2 U' R2 U2 R2 U R2 U2 R2\n"
     ]
    }
   ],
   "source": [
    "cube = Cube()\n",
    "cube.apply_moves(\"R2 U2 R2 U2 R' U2 R U R2 U R2 U' R U R2 U' R2 U R2 U2 R2 U R U R'\")\n",
    "cube.apply_moves(\"U R2 U' R U' R' U2\")\n",
    "cube.plot()\n",
    "alg = solver_2gen(cube)\n",
    "print(alg)"
   ]
  },
  {
   "cell_type": "code",
   "execution_count": 61,
   "id": "af7d4193",
   "metadata": {
    "scrolled": true
   },
   "outputs": [
    {
     "data": {
      "image/png": "[encoded data removed]",
      "text/plain": [
       "<Figure size 400x300 with 1 Axes>"
      ]
     },
     "metadata": {},
     "output_type": "display_data"
    },
    {
     "name": "stdout",
     "output_type": "stream",
     "text": [
      "R2 U2 R2 U' R2 U R2 U2 R2 U R2 | 13 + 11 = 24\n"
     ]
    }
   ],
   "source": [
    "cube = Cube()\n",
    "cube.apply_moves(\"U' R U R' U2 R' U R U R U' R U2 R' U R2 U R' U' R\")\n",
    "start = \"R2 U' U R2 U2 R U' R U2 R' U2 R U\"\n",
    "cube.apply_moves(start)\n",
    "cube.plot()\n",
    "alg = solver_2gen(cube)\n",
    "print(alg,\"|\", len(start.split(\" \")),\"+\", len(alg.split(\" \")), \"=\", len(start.split(\" \"))+len(alg.split(\" \")))"
   ]
  },
  {
   "cell_type": "code",
   "execution_count": null,
   "id": "bdebfc4e",
   "metadata": {},
   "outputs": [],
   "source": []
  },
  {
   "cell_type": "code",
   "execution_count": null,
   "id": "5ecac594",
   "metadata": {},
   "outputs": [],
   "source": []
  },
  {
   "cell_type": "code",
   "execution_count": null,
   "id": "1a9120d0",
   "metadata": {},
   "outputs": [],
   "source": []
  },
  {
   "cell_type": "code",
   "execution_count": null,
   "id": "82607fdb",
   "metadata": {},
   "outputs": [],
   "source": []
  },
  {
   "cell_type": "code",
   "execution_count": null,
   "id": "6dbd2d49",
   "metadata": {},
   "outputs": [],
   "source": []
  },
  {
   "cell_type": "code",
   "execution_count": null,
   "id": "77b2468d",
   "metadata": {},
   "outputs": [],
   "source": []
  },
  {
   "cell_type": "code",
   "execution_count": null,
   "id": "2623b134",
   "metadata": {},
   "outputs": [],
   "source": []
  },
  {
   "cell_type": "code",
   "execution_count": null,
   "id": "629420a5",
   "metadata": {},
   "outputs": [],
   "source": []
  },
  {
   "cell_type": "code",
   "execution_count": null,
   "id": "db55889f",
   "metadata": {},
   "outputs": [],
   "source": []
  },
  {
   "cell_type": "code",
   "execution_count": null,
   "id": "1671e3b6",
   "metadata": {},
   "outputs": [],
   "source": []
  }
 ],
 "metadata": {
  "kernelspec": {
   "display_name": "Python 3 (ipykernel)",
   "language": "python",
   "name": "python3"
  },
  "language_info": {
   "codemirror_mode": {
    "name": "ipython",
    "version": 3
   },
   "file_extension": ".py",
   "mimetype": "text/x-python",
   "name": "python",
   "nbconvert_exporter": "python",
   "pygments_lexer": "ipython3",
   "version": "3.9.13"
  }
 },
 "nbformat": 4,
 "nbformat_minor": 5
}
