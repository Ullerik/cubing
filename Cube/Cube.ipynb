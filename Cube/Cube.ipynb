{
 "cells": [
  {
   "cell_type": "code",
   "execution_count": 2,
   "id": "72ed7b4f",
   "metadata": {},
   "outputs": [
    {
     "name": "stdout",
     "output_type": "stream",
     "text": [
      "Support algs imported!\n"
     ]
    }
   ],
   "source": [
    "import numpy as np\n",
    "from numba import njit\n",
    "import time\n",
    "import matplotlib.pyplot as plt\n",
    "import random\n",
    "%run ../cube/support.ipynb"
   ]
  },
  {
   "cell_type": "code",
   "execution_count": 3,
   "id": "1d43a46d",
   "metadata": {},
   "outputs": [],
   "source": [
    "# jitted functions\n",
    "\n",
    "@njit\n",
    "def _change_state(state,changes):\n",
    "    new_state = np.copy(state)\n",
    "    for i,j in enumerate(changes):\n",
    "        new_state[i] = state[j]\n",
    "    return new_state\n",
    "\n",
    "@njit\n",
    "def _f2l_solved(state):\n",
    "    return state[50]==6 and state[46]==6 and state[46]==6 and state[52]==6 and state[45]==6 and state[47]==6 and state[51]==6 and state[53]==6and state[3]==1 and state[4]==1 and state[5]==1and state[6]==1 and state[7]==1 and state[8]==1and state[12]==2 and state[13]==2 and state[14]==2and state[15]==2 and state[16]==2 and state[17]==2and state[21]==3 and state[22]==3 and state[23]==3and state[24]==3 and state[25]==3 and state[26]==3and state[30]==4 and state[31]==4 and state[32]==4and state[33]==4 and state[34]==4 and state[35]==4\n"
   ]
  },
  {
   "cell_type": "code",
   "execution_count": 4,
   "id": "95e0e500",
   "metadata": {},
   "outputs": [],
   "source": [
    "tst = \"D L' F2 R' F' B2 L2 B L D F' L2 R U2 B' D' R2 U L B2 D D L' F2 R' F' B2 L2 B L D F' L2 R U2 B' D' R2 U L B2 D D L' F2 R' F' B2 L2 B L D F' L2 R U2 B' D' R2 U L B2 D D L' F2 R' F' B2 L2 B L D F' L2 R U2 B' D' R2 U L B2 D D L' F2 R' F' B2 L2 B L D F' L2 R U2 B' D' R2 U L B2 D D L' F2 R' F' B2 L2 B L D F' L2 R U2 B' D' R2 U L B2 D D L' F2 R' F' B2 L2 B L D F' L2 R U2 B' D' R2 U L B2 D D L' F2 R' F' B2 L2 B L D F' L2 R U2 B' D' R2 U L B2 D D L' F2 R' F' B2 L2 B L D F' L2 R U2 B' D' R2 U L B2 D D L' F2 R' F' B2 L2 B L D F' L2 R U2 B' D' R2 U L B2 D D L' F2 R' F' B2 L2 B L D F' L2 R U2 B' D' R2 U L B2 D D L' F2 R' F' B2 L2 B L D F' L2 R U2 B' D' R2 U L B2 D D L' F2 R' F' B2 L2 B L D F' L2 R U2 B' D' R2 U L B2 D D L' F2 R' F' B2 L2 B L D F' L2 R U2 B' D' R2 U L B2 D D L' F2 R' F' B2 L2 B L D F' L2 R U2 B' D' R2 U L B2 D D L' F2 R' F' B2 L2 B L D F' L2 R U2 B' D' R2 U L B2 D D L' F2 R' F' B2 L2 B L D F' L2 R U2 B' D' R2 U L B2 D D L' F2 R' F' B2 L2 B L D F' L2 R U2 B' D' R2 U L B2 D D L' F2 R' F' B2 L2 B L D F' L2 R U2 B' D' R2 U L B2 D D L' F2 R' F' B2 L2 B L D F' L2 R U2 B' D' R2 U L B2 D D L' F2 R' F' B2 L2 B L D F' L2 R U2 B' D' R2 U L B2 D D L' F2 R' F' B2 L2 B L D F' L2 R U2 B' D' R2 U L B2 D D L' F2 R' F' B2 L2 B L D F' L2 R U2 B' D' R2 U L B2 D D L' F2 R' F' B2 L2 B L D F' L2 R U2 B' D' R2 U L B2 D D L' F2 R' F' B2 L2 B L D F' L2 R U2 B' D' R2 U L B2 D D L' F2 R' F' B2 L2 B L D F' L2 R U2 B' D' R2 U L B2 D D L' F2 R' F' B2 L2 B L D F' L2 R U2 B' D' R2 U L B2 D D L' F2 R' F' B2 L2 B L D F' L2 R U2 B' D' R2 U L B2 D D L' F2 R' F' B2 L2 B L D F' L2 R U2 B' D' R2 U L B2 D D L' F2 R' F' B2 L2 B L D F' L2 R U2 B' D' R2 U L B2 D D L' F2 R' F' B2 L2 B L D F' L2 R U2 B' D' R2 U L B2 D D L' F2 R' F' B2 L2 B L D F' L2 R U2 B' D' R2 U L B2 D D L' F2 R' F' B2 L2 B L D F' L2 R U2 B' D' R2 U L B2 D D L' F2 R' F' B2 L2 B L D F' L2 R U2 B' D' R2 U L B2 D D L' F2 R' F' B2 L2 B L D F' L2 R U2 B' D' R2 U L B2 D D L' F2 R' F' B2 L2 B L D F' L2 R U2 B' D' R2 U L B2 D D L' F2 R' F' B2 L2 B L D F' L2 R U2 B' D' R2 U L B2 D D L' F2 R' F' B2 L2 B L D F' L2 R U2 B' D' R2 U L B2 D D L' F2 R' F' B2 L2 B L D F' L2 R U2 B' D' R2 U L B2 D D L' F2 R' F' B2 L2 B L D F' L2 R U2 B' D' R2 U L B2 D D L' F2 R' F' B2 L2 B L D F' L2 R U2 B' D' R2 U L B2 D D L' F2 R' F' B2 L2 B L D F' L2 R U2 B' D' R2 U L B2 D D L' F2 R' F' B2 L2 B L D F' L2 R U2 B' D' R2 U L B2 D D L' F2 R' F' B2 L2 B L D F' L2 R U2 B' D' R2 U L B2 D D L' F2 R' F' B2 L2 B L D F' L2 R U2 B' D' R2 U L B2 D D L' F2 R' F' B2 L2 B L D F' L2 R U2 B' D' R2 U L B2 D D L' F2 R' F' B2 L2 B L D F' L2 R U2 B' D' R2 U L B2 D D L' F2 R' F' B2 L2 B L D F' L2 R U2 B' D' R2 U L B2 D D L' F2 R' F' B2 L2 B L D F' L2 R U2 B' D' R2 U L B2 D D L' F2 R' F' B2 L2 B L D F' L2 R U2 B' D' R2 U L B2 D D L' F2 R' F' B2 L2 B L D F' L2 R U2 B' D' R2 U L B2 D D L' F2 R' F' B2 L2 B L D F' L2 R U2 B' D' R2 U L B2 D D L' F2 R' F' B2 L2 B L D F' L2 R U2 B' D' R2 U L B2 D D L' F2 R' F' B2 L2 B L D F' L2 R U2 B' D' R2 U L B2 D D L' F2 R' F' B2 L2 B L D F' L2 R U2 B' D' R2 U L B2 D D L' F2 R' F' B2 L2 B L D F' L2 R U2 B' D' R2 U L B2 D D L' F2 R' F' B2 L2 B L D F' L2 R U2 B' D' R2 U L B2 D D L' F2 R' F' B2 L2 B L D F' L2 R U2 B' D' R2 U L B2 D D L' F2 R' F' B2 L2 B L D F' L2 R U2 B' D' R2 U L B2 D D L' F2 R' F' B2 L2 B L D F' L2 R U2 B' D' R2 U L B2 D D L' F2 R' F' B2 L2 B L D F' L2 R U2 B' D' R2 U L B2 D D L' F2 R' F' B2 L2 B L D F' L2 R U2 B' D' R2 U L B2 D D L' F2 R' F' B2 L2 B L D F' L2 R U2 B' D' R2 U L B2 D D L' F2 R' F' B2 L2 B L D F' L2 R U2 B' D' R2 U L B2 D D L' F2 R' F' B2 L2 B L D F' L2 R U2 B' D' R2 U L B2 D D L' F2 R' F' B2 L2 B L D F' L2 R U2 B' D' R2 U L B2 D D L' F2 R' F' B2 L2 B L D F' L2 R U2 B' D' R2 U L B2 D D L' F2 R' F' B2 L2 B L D F' L2 R U2 B' D' R2 U L B2 D D L' F2 R' F' B2 L2 B L D F' L2 R U2 B' D' R2 U L B2 D D L' F2 R' F' B2 L2 B L D F' L2 R U2 B' D' R2 U L B2 D D L' F2 R' F' B2 L2 B L D F' L2 R U2 B' D' R2 U L B2 D D L' F2 R' F' B2 L2 B L D F' L2 R U2 B' D' R2 U L B2 D D L' F2 R' F' B2 L2 B L D F' L2 R U2 B' D' R2 U L B2 D D L' F2 R' F' B2 L2 B L D F' L2 R U2 B' D' R2 U L B2 D D L' F2 R' F' B2 L2 B L D F' L2 R U2 B' D' R2 U L B2 D D L' F2 R' F' B2 L2 B L D F' L2 R U2 B' D' R2 U L B2 D D L' F2 R' F' B2 L2 B L D F' L2 R U2 B' D' R2 U L B2 D D L' F2 R' F' B2 L2 B L D F' L2 R U2 B' D' R2 U L B2 D D L' F2 R' F' B2 L2 B L D F' L2 R U2 B' D' R2 U L B2 D D L' F2 R' F' B2 L2 B L D F' L2 R U2 B' D' R2 U L B2 D D L' F2 R' F' B2 L2 B L D F' L2 R U2 B' D' R2 U L B2 D D L' F2 R' F' B2 L2 B L D F' L2 R U2 B' D' R2 U L B2 D D L' F2 R' F' B2 L2 B L D F' L2 R U2 B' D' R2 U L B2 D D L' F2 R' F' B2 L2 B L D F' L2 R U2 B' D' R2 U L B2 D D L' F2 R' F' B2 L2 B L D F' L2 R U2 B' D' R2 U L B2 D D L' F2 R' F' B2 L2 B L D F' L2 R U2 B' D' R2 U L B2 D D L' F2 R' F' B2 L2 B L D F' L2 R U2 B' D' R2 U L B2 D D L' F2 R' F' B2 L2 B L D F' L2 R U2 B' D' R2 U L B2 D D L' F2 R' F' B2 L2 B L D F' L2 R U2 B' D' R2 U L B2 D D L' F2 R' F' B2 L2 B L D F' L2 R U2 B' D' R2 U L B2 D D L' F2 R' F' B2 L2 B L D F' L2 R U2 B' D' R2 U L B2 D D L' F2 R' F' B2 L2 B L D F' L2 R U2 B' D' R2 U L B2 D D L' F2 R' F' B2 L2 B L D F' L2 R U2 B' D' R2 U L B2 D D L' F2 R' F' B2 L2 B L D F' L2 R U2 B' D' R2 U L B2 D D L' F2 R' F' B2 L2 B L D F' L2 R U2 B' D' R2 U L B2 D D L' F2 R' F' B2 L2 B L D F' L2 R U2 B' D' R2 U L B2 D D L' F2 R' F' B2 L2 B L D F' L2 R U2 B' D' R2 U L B2 D D L' F2 R' F' B2 L2 B L D F' L2 R U2 B' D' R2 U L B2 D D L' F2 R' F' B2 L2 B L D F' L2 R U2 B' D' R2 U L B2 D D L' F2 R' F' B2 L2 B L D F' L2 R U2 B' D' R2 U L B2 D D L' F2 R' F' B2 L2 B L D F' L2 R U2 B' D' R2 U L B2 D D L' F2 R' F' B2 L2 B L D F' L2 R U2 B' D' R2 U L B2 D D L' F2 R' F' B2 L2 B L D F' L2 R U2 B' D' R2 U L B2 D D L' F2 R' F' B2 L2 B L D F' L2 R U2 B' D' R2 U L B2 D D L' F2 R' F' B2 L2 B L D F' L2 R U2 B' D' R2 U L B2 D D L' F2 R' F' B2 L2 B L D F' L2 R U2 B' D' R2 U L B2 D D L' F2 R' F' B2 L2 B L D F' L2 R U2 B' D' R2 U L B2 D D L' F2 R' F' B2 L2 B L D F' L2 R U2 B' D' R2 U L B2 D D L' F2 R' F' B2 L2 B L D F' L2 R U2 B' D' R2 U L B2 D D L' F2 R' F' B2 L2 B L D F' L2 R U2 B' D' R2 U L B2 D D L' F2 R' F' B2 L2 B L D F' L2 R U2 B' D' R2 U L B2 D D L' F2 R' F' B2 L2 B L D F' L2 R U2 B' D' R2 U L B2 D D L' F2 R' F' B2 L2 B L D F' L2 R U2 B' D' R2 U L B2 D D L' F2 R' F' B2 L2 B L D F' L2 R U2 B' D' R2 U L B2 D D L' F2 R' F' B2 L2 B L D F' L2 R U2 B' D' R2 U L B2 D D L' F2 R' F' B2 L2 B L D F' L2 R U2 B' D' R2 U L B2 D D L' F2 R' F' B2 L2 B L D F' L2 R U2 B' D' R2 U L B2 D D L' F2 R' F' B2 L2 B L D F' L2 R U2 B' D' R2 U L B2 D D L' F2 R' F' B2 L2 B L D F' L2 R U2 B' D' R2 U L B2 D D L' F2 R' F' B2 L2 B L D F' L2 R U2 B' D' R2 U L B2 D D L' F2 R' F' B2 L2 B L D F' L2 R U2 B' D' R2 U L B2 D D L' F2 R' F' B2 L2 B L D F' L2 R U2 B' D' R2 U L B2 D D L' F2 R' F' B2 L2 B L D F' L2 R U2 B' D' R2 U L B2 D D L' F2 R' F' B2 L2 B L D F' L2 R U2 B' D' R2 U L B2 D D L' F2 R' F' B2 L2 B L D F' L2 R U2 B' D' R2 U L B2 D D L' F2 R' F' B2 L2 B L D F' L2 R U2 B' D' R2 U L B2 D D L' F2 R' F' B2 L2 B L D F' L2 R U2 B' D' R2 U L B2 D D L' F2 R' F' B2 L2 B L D F' L2 R U2 B' D' R2 U L B2 D D L' F2 R' F' B2 L2 B L D F' L2 R U2 B' D' R2 U L B2 D D L' F2 R' F' B2 L2 B L D F' L2 R U2 B' D' R2 U L B2 D D L' F2 R' F' B2 L2 B L D F' L2 R U2 B' D' R2 U L B2 D D L' F2 R' F' B2 L2 B L D F' L2 R U2 B' D' R2 U L B2 D D L' F2 R' F' B2 L2 B L D F' L2 R U2 B' D' R2 U L B2 D D L' F2 R' F' B2 L2 B L D F' L2 R U2 B' D' R2 U L B2 D D L' F2 R' F' B2 L2 B L D F' L2 R U2 B' D' R2 U L B2 D D L' F2 R' F' B2 L2 B L D F' L2 R U2 B' D' R2 U L B2 D D L' F2 R' F' B2 L2 B L D F' L2 R U2 B' D' R2 U L B2 D D L' F2 R' F' B2 L2 B L D F' L2 R U2 B' D' R2 U L B2 D D L' F2 R' F' B2 L2 B L D F' L2 R U2 B' D' R2 U L B2 D D L' F2 R' F' B2 L2 B L D F' L2 R U2 B' D' R2 U L B2 D D L' F2 R' F' B2 L2 B L D F' L2 R U2 B' D' R2 U L B2 D D L' F2 R' F' B2 L2 B L D F' L2 R U2 B' D' R2 U L B2 D D L' F2 R' F' B2 L2 B L D F' L2 R U2 B' D' R2 U L B2 D D L' F2 R' F' B2 L2 B L D F' L2 R U2 B' D' R2 U L B2 D D L' F2 R' F' B2 L2 B L D F' L2 R U2 B' D' R2 U L B2 D D L' F2 R' F' B2 L2 B L D F' L2 R U2 B' D' R2 U L B2 D D L' F2 R' F' B2 L2 B L D F' L2 R U2 B' D' R2 U L B2 D D L' F2 R' F' B2 L2 B L D F' L2 R U2 B' D' R2 U L B2 D D L' F2 R' F' B2 L2 B L D F' L2 R U2 B' D' R2 U L B2 D D L' F2 R' F' B2 L2 B L D F' L2 R U2 B' D' R2 U L B2 D\""
   ]
  },
  {
   "cell_type": "code",
   "execution_count": 14,
   "id": "4d9d3e58",
   "metadata": {},
   "outputs": [],
   "source": [
    "'''\n",
    "       5 5 5\n",
    "       5 5 5\n",
    "       5 5 5\n",
    "       \n",
    "4 4 4  1 1 1  2 2 2  3 3 3\n",
    "4 4 4  1 1 1  2 2 2  3 3 3\n",
    "4 4 4  1 1 1  2 2 2  3 3 3\n",
    "\n",
    "       6 6 6\n",
    "       6 6 6\n",
    "       6 6 6\n",
    "'''\n",
    "\n",
    "\n",
    "class Cube:\n",
    "    def __init__(self,mode = 0):\n",
    "        '''\n",
    "        mode: 0 - normal, 1 - debug, 2 - normal but top layer all 0s, 3 - normal but side of top layer all 0s\n",
    "        '''\n",
    "        \n",
    "        \n",
    "        self.state = np.array([1]*9+[2]*9+[3]*9+[4]*9+[5]*9+[6]*9) #normal mode\n",
    "        self.mode = mode\n",
    "        if mode == 1: #show index of each sticker\n",
    "            self.state = np.array(range(54))\n",
    "        if mode == 2: #LL rmoved\n",
    "            self.state = np.array([0,0,0,1,1,1,1,1,1,0,0,0,2,2,2,2,2,2,0,0,0,3,3,3,3,3,3,0,0,0,4,4,4,4,4,4,0,0,0,0,0,0,0,0,0,5,5,5,5,5,5,5,5,5])\n",
    "        if mode == 3: #PLL removed\n",
    "            self.state = np.array([0,0,0,1,1,1,1,1,1,0,0,0,2,2,2,2,2,2,0,0,0,3,3,3,3,3,3,0,0,0,4,4,4,4,4,4,5,5,5,5,5,5,5,5,5,6,6,6,6,6,6,6,6,6])\n",
    "        if mode == 4: #CP\n",
    "            self.state = np.array([7,0,8,0,0,0,1,0,3,8,0,6,0,0,0,3,0,4,6,0,5,0,0,0,4,0,2,5,0,7,0,0,0,2,0,1,5,0,6,0,0,0,7,0,8,1,0,3,0,0,0,2,0,4])\n",
    "        if mode == 5: #EO\n",
    "            self.state = np.array([0,1,0,0,0,0,0,1,0,0,1,0,1,0,1,0,1,0,0,1,0,0,0,0,0,1,0,0,1,0,1,0,1,0,1,0,0,0,0,0,0,0,0,0,0,0,0,0,0,0,0,0,0,0])\n",
    "        if mode == 6: #2x2x3 - centers\n",
    "            self.state = np.array([0,0,0,1,0,0,1,1,0,0,0,0,0,0,0,0,0,0,0,0,0,0,0,3,0,3,3,0,0,0,4,0,4,4,4,4,0,0,0,0,0,0,0,0,0,6,6,0,6,0,0,6,6,0])\n",
    "        if mode == 7: #2gen DR\n",
    "            self.state = np.array([0,0,0,0,0,0,0,0,0,0,0,0,2,0,2,0,0,0,0,0,0,0,0,0,0,0,0,0,0,0,0,0,0,0,0,0,1,0,1,0,0,0,1,0,1,0,0,1,0,0,0,0,0,1])\n",
    "        if mode == 8: # LDB 222\n",
    "            self.state = np.array([0,0,0,0,0,0,0,0,0,0,0,0,0,0,0,0,0,0,0,0,0,0,3,3,0,3,3,0,0,0,4,4,0,4,4,0,0,0,0,0,0,0,0,0,0,0,0,0,6,6,0,6,6,0])\n",
    "        if mode == 9: # cross\n",
    "            self.state = np.array([0,0,0,0,0,0,0,1,0,0,0,0,0,0,0,0,2,0,0,0,0,0,0,0,0,3,0,0,0,0,0,0,0,0,4,0,0,0,0,0,0,0,0,0,0,0,6,0,6,6,6,0,6,0])\n",
    "        if mode == 10: # cross + 222\n",
    "            self.state = np.array([0,0,0,0,0,0,0,1,0,0,0,0,0,0,0,0,2,0,0,0,0,0,3,3,0,3,3,0,0,0,4,4,0,4,4,0,0,0,0,0,0,0,0,0,0,0,6,0,6,6,6,6,6,0])\n",
    "        if mode == 11: # cross + 223\n",
    "            self.state = np.array([0,0,0,1,1,0,1,1,0,0,0,0,0,0,0,0,2,0,0,0,0,0,3,3,0,3,3,0,0,0,4,4,4,4,4,4,0,0,0,0,0,0,0,0,0,6,6,0,6,6,6,6,6,0])\n",
    "        if mode == 12: # FR pair only\n",
    "            self.state = np.array([0,0,0,0,0,1,0,0,1,0,0,0,2,0,0,2,0,0,0,0,0,0,0,0,0,0,0,0,0,0,0,0,0,0,0,0,0,0,0,0,0,0,0,0,0,0,0,6,0,0,0,0,0,0])\n",
    "            \n",
    "    def __repr__(self):\n",
    "        s = self.state\n",
    "        space = \"  \"*(self.mode == 1)\n",
    "        rpr =                    f\"{space}       {s[36]} {s[37]} {s[38]}\"\n",
    "        rpr +=                 f\"\\n{space}       {s[39]} {s[40]} {s[41]}\"\n",
    "        rpr +=                 f\"\\n{space}       {s[42]} {s[43]} {s[44]}\"\n",
    "        \n",
    "        rpr += f\"\\n{s[27]} {s[28]} {s[29]}  {s[0]} {s[1]} {s[2]}  {s[9]} {s[10]} {s[11]}  {s[18]} {s[19]} {s[20]}\"\n",
    "        rpr += f\"\\n{s[30]} {s[31]} {s[32]}  {s[3]} {s[4]} {s[5]}  {s[12]} {s[13]} {s[14]}  {s[21]} {s[22]} {s[23]}\"\n",
    "        rpr += f\"\\n{s[33]} {s[34]} {s[35]}  {s[6]} {s[7]} {s[8]}  {s[15]} {s[16]} {s[17]}  {s[24]} {s[25]} {s[26]}\"\n",
    "        \n",
    "        \n",
    "        rpr +=                 f\"\\n{space}       {s[45]} {s[46]} {s[47]}\"\n",
    "        rpr +=                 f\"\\n{space}       {s[48]} {s[49]} {s[50]}\"\n",
    "        rpr +=                 f\"\\n{space}       {s[51]} {s[52]} {s[53]}\"\n",
    "        return rpr+\"\\n\"\n",
    "        \n",
    "    def change_state(self,changes):\n",
    "        '''\n",
    "        changes: np.array of size 6*9, descibing where each id goes.\n",
    "        Doing nothing would be [0,1,2,3,...,53]\n",
    "        '''\n",
    "        self.state = _change_state(self.state,changes)\n",
    "        \n",
    "    def is_solved(self):\n",
    "        if self.mode == 1:\n",
    "            if np.array_equal(self.state,np.array(range(54))):\n",
    "                return True\n",
    "        else:\n",
    "            if np.array_equal(self.state,np.array([1]*9+[2]*9+[3]*9+[4]*9+[5]*9+[6]*9)):\n",
    "                return True\n",
    "        return False\n",
    "    \n",
    "    def f2l_solved(self):\n",
    "        # only works in nondebug mode\n",
    "        if _f2l_solved(cube.state):\n",
    "            return True\n",
    "        return False\n",
    "        \n",
    "    def apply_move(self,move):\n",
    "        self.change_state(moves[move])\n",
    "    \n",
    "    def apply_moves(self,alg):\n",
    "        # alg in string\n",
    "        if alg:\n",
    "            alg = alg.split(\" \")\n",
    "            for move in alg:\n",
    "                self.change_state(move_dict[move])\n",
    "            \n",
    "    def apply_algs(self,alg_list):\n",
    "        # moves in string\n",
    "        if alg_list:\n",
    "            algs = alg_list.split(\" \")\n",
    "            for alg in algs:\n",
    "                self.change_state(alg_dict[alg])\n",
    "                \n",
    "    def plot(self,colors=[\"grey\",\"green\",\"r\",\"b\",\"darkorange\",\"w\",\"y\"]):\n",
    "        plot_2d_cube(self.state, colors=colors)\n",
    "        \n",
    "    def get_short_state(self):\n",
    "        state = cube.state.tolist()\n",
    "        short_state = state[0:4]\n",
    "        short_state += state[5:13]\n",
    "        short_state += state[14:22]\n",
    "        short_state += state[23:31]\n",
    "        short_state += state[32:40]\n",
    "        short_state += state[41:49]\n",
    "        short_state += state[50:54]\n",
    "        return np.array(short_state,dtype=float)\n",
    "    \n",
    "    def copy(self):\n",
    "        cCube = Cube(self.mode)\n",
    "        cCube.state = self.state.copy()\n",
    "        return cCube\n",
    "\n",
    "cube = Cube()\n",
    "t = time.time()\n",
    "cube.apply_moves(tst)\n",
    "# print(time.time()-t)\n",
    "# cube.plot()"
   ]
  },
  {
   "cell_type": "code",
   "execution_count": null,
   "id": "65c472d4",
   "metadata": {},
   "outputs": [],
   "source": []
  },
  {
   "cell_type": "code",
   "execution_count": 6,
   "id": "a359d3c7",
   "metadata": {},
   "outputs": [],
   "source": [
    "def rotate_color_swap(cube,rot):\n",
    "    '''\n",
    "    rotate such that yellow-orange-blue is in DLB, then swap colors based on that\n",
    "    return inverse rotation\n",
    "    '''\n",
    "    cube.apply_moves(rot)\n",
    "    \n",
    "    centers = np.array([cube.state[4],cube.state[13],cube.state[22],cube.state[31],cube.state[40],cube.state[49]])\n",
    "    transfer = np.array([7,8,9,10,11,12])\n",
    "    for i in range(len(cube.state)):\n",
    "        cube.state[i] = transfer[np.where(centers==cube.state[i])[0]]\n",
    "    cube.state -= 6"
   ]
  },
  {
   "cell_type": "code",
   "execution_count": 13,
   "id": "976662f7",
   "metadata": {
    "scrolled": true
   },
   "outputs": [
    {
     "data": {
      "text/plain": [
       "1.6131670475006104"
      ]
     },
     "execution_count": 13,
     "metadata": {},
     "output_type": "execute_result"
    }
   ],
   "source": [
    "@njit\n",
    "def id_from_state(state, ids = np.array(range(54))):\n",
    "    '''\n",
    "    assumes no rotation\n",
    "    make sure the cube is in the correct orientation! (mode 2 for F2L only)\n",
    "    '''\n",
    "    # only take the important stickers (0 centers, no cornersticker on top and bottom layer, 3 edge stickers removed)\n",
    "    ID = str(state[ids[0]])\n",
    "    for i in ids[1:]:\n",
    "        ID += str(state[i])\n",
    "    return ID #you might want to int() this afterwards\n",
    "\n",
    "# cube = Cube()\n",
    "# id_from_state(cube.state)\n",
    "\n",
    "# id_from_state(cube.state)\n",
    "# t = time.time()\n",
    "# for i in range(10000):\n",
    "#     id_from_state(cube.state)\n",
    "# time.time()-t"
   ]
  },
  {
   "cell_type": "code",
   "execution_count": 11,
   "id": "c4846a3b",
   "metadata": {},
   "outputs": [],
   "source": [
    "def invert_cube(cube):\n",
    "    # get a copy of the cube, only inversed\n",
    "    inv_cube = Cube()\n",
    "    temp_cube = Cube(1)\n",
    "    inv_change = _change_state(temp_cube.state, cube.state)\n",
    "    print(inv_change)\n",
    "    inv_cube.change_state(inv_change)\n",
    "    return inv_cube\n",
    "    \n",
    "    \n",
    "\n",
    "# cube = Cube()\n",
    "# cube.apply_moves(\"F B' x y x'\")\n",
    "# print(cube.state)\n",
    "\n",
    "# inv_cube = invert_cube(cube)\n",
    "# inv_cube.plot()"
   ]
  },
  {
   "cell_type": "code",
   "execution_count": null,
   "id": "1ff5c35d",
   "metadata": {},
   "outputs": [],
   "source": []
  },
  {
   "cell_type": "code",
   "execution_count": null,
   "id": "22f4ef5a",
   "metadata": {},
   "outputs": [],
   "source": []
  },
  {
   "cell_type": "code",
   "execution_count": null,
   "id": "2c2f41dd",
   "metadata": {},
   "outputs": [],
   "source": []
  },
  {
   "cell_type": "code",
   "execution_count": null,
   "id": "980a8a4c",
   "metadata": {},
   "outputs": [],
   "source": []
  },
  {
   "cell_type": "code",
   "execution_count": null,
   "id": "acea04b5",
   "metadata": {},
   "outputs": [],
   "source": []
  },
  {
   "cell_type": "code",
   "execution_count": null,
   "id": "081bbaae",
   "metadata": {},
   "outputs": [],
   "source": []
  },
  {
   "cell_type": "code",
   "execution_count": null,
   "id": "4e3559a3",
   "metadata": {},
   "outputs": [],
   "source": []
  },
  {
   "cell_type": "code",
   "execution_count": null,
   "id": "720de333",
   "metadata": {},
   "outputs": [],
   "source": []
  },
  {
   "cell_type": "code",
   "execution_count": null,
   "id": "2d650e5c",
   "metadata": {},
   "outputs": [],
   "source": []
  },
  {
   "cell_type": "code",
   "execution_count": null,
   "id": "5e649813",
   "metadata": {},
   "outputs": [],
   "source": [
    "print(\"Cube initiated\")"
   ]
  }
 ],
 "metadata": {
  "kernelspec": {
   "display_name": "Python 3 (ipykernel)",
   "language": "python",
   "name": "python3"
  },
  "language_info": {
   "codemirror_mode": {
    "name": "ipython",
    "version": 3
   },
   "file_extension": ".py",
   "mimetype": "text/x-python",
   "name": "python",
   "nbconvert_exporter": "python",
   "pygments_lexer": "ipython3",
   "version": "3.9.13"
  }
 },
 "nbformat": 4,
 "nbformat_minor": 5
}
